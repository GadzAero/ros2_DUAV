{
 "cells": [
  {
   "cell_type": "code",
   "execution_count": 1,
   "id": "a3a9e21a",
   "metadata": {},
   "outputs": [],
   "source": [
    "import time\n",
    "from statemachine import StateMachine, State, Event"
   ]
  },
  {
   "cell_type": "code",
   "execution_count": null,
   "id": "218ce7b7",
   "metadata": {},
   "outputs": [
    {
     "name": "stdout",
     "output_type": "stream",
     "text": [
      "\n",
      "[FSM] ----------------- POPEYE MENU -----------------\n",
      "[FSM] 1- Select a mission\n",
      "[FSM] 0- Terminate POPEYE\n",
      "[FSM] Invalid option. Please select a number.\n",
      "[FSM] ---------------------------------------\n",
      "\n",
      "\n",
      "[FSM] As terminated. Goodbye!\n"
     ]
    }
   ],
   "source": [
    "# DOC: https://python-statemachine.readthedocs.io/en/latest/actions.html\n",
    "\n",
    "##################################################################################################################################################################################################################################################################################################################################################################\n",
    "##### FINITE STATE MACHINE FOR POPEYE ORDER CONTROL ##############################################################################################################################################################################################################################################################################################################\n",
    "class PopeyeFSM(StateMachine): \n",
    "    ###### PARAMS ################################################################################################################################################################################################################################################################################################################################################\n",
    "    option = 0\n",
    "    \n",
    "    ###### STATES ################################################################################################################################################################################################################################################################################################################################################\n",
    "    ### Start and end states\n",
    "    idle       = State('Idle', initial=True)\n",
    "    terminated = State('Terminated', final=True)\n",
    "    \n",
    "    ### Standard states\n",
    "    # standard__idle        = State('Standard__Idle')\n",
    "    # standard__change_mode = State('Standard__ChangeMode')\n",
    "    # standard__armed       = State('Standard__Armed')\n",
    "    # standard__takeoff     = State('Standard__Takeoff')\n",
    "    # standard__reposition  = State('Standard__Reposition')\n",
    "    # standard__landed      = State('Standard__Land')\n",
    "    # standard__disarmed    = State('Standard__Disarmed')\n",
    "    \n",
    "    # ### Olive Following\n",
    "    # olive_following__idle = State('OliveFollowing__Idle')\n",
    "    \n",
    "    # ### Firefighter states\n",
    "    fire_fighter__wait_for_GPS_coor   = State('FireFighter__Idle')\n",
    "    fire_fighter__write_approach_      = State('FireFighter__WriteMission')\n",
    "    fire_fighter__wait_for_validation = State('FireFighter__WaitForValidation')\n",
    "    fire_fighter__do_appraoch         = State('FireFighter__DoMission')\n",
    "    fire_fighter__target_aquisition   = State('FireFighter__TargetAquisition')\n",
    "    fire_fighter__fire_hydrant_drop   = State('FireFighter__FireHydrantDrop')\n",
    "    fire_fighter__\n",
    "    \n",
    "\n",
    "    ###### EVENTS ################################################################################################################################################################################################################################################################################################################################################\n",
    "    ### Start and end events\n",
    "    event__IDLE        = Event(idle.to(terminated, cond=lambda: PopeyeFSM.option==0)\n",
    "                               | idle.to(fire_fighter__wait_for_GPS_coor, cond=lambda: PopeyeFSM.option==1))\n",
    "    event_FIREFIGHTING = Event(fire_fighter__wait_for_GPS_coor.to(fire_fighter__write_mission)\n",
    "                               | fire_fighter__write_mission.to)\n",
    "        \n",
    "    def __init__(self):\n",
    "        super(PopeyeFSM, self).__init__()\n",
    "        \n",
    "    ###### STATE AND TRANSITION ACTIONS ####################################################################################################################################################################################################################################################################################################################################################################################################################################\n",
    "    ### Start and end states\n",
    "    @idle.enter\n",
    "    def on_ener__idle(self):\n",
    "        print(\"\\n[FSM] ----------------- POPEYE MENU -----------------\")\n",
    "        print(\"[FSM] 1- Select a mission\")\n",
    "        print(\"[FSM] 0- Terminate POPEYE\")\n",
    "        time.sleep(0.1)\n",
    "        choice = input(\"\\n[FSM] Select an option: \")\n",
    "        if choice.isdigit() and int(choice) in [0, 1]:\n",
    "            PopeyeFSM.option = int(choice)\n",
    "        else:\n",
    "            print(\"[FSM] Invalid option. Please select a number.\")\n",
    "        print(\"[FSM] ---------------------------------------\\n\")\n",
    "        self.send('event')\n",
    "    @terminated.enter\n",
    "    def on_enter__terminated(self):\n",
    "        print(\"\\n[FSM] As terminated. Goodbye!\")\n",
    "        time.sleep(0.1)\n",
    "        \n",
    "    ### Firefighter states\n",
    "    @fire_fighter__wait_for_GPS_coor.enter\n",
    "    def on_enter__fire_fighter_idle(self):\n",
    "        print(\"[FSM] > FIRE FIGHTER MISSION AS STARTED.\")\n",
    "        print(\"[FSM] > FIRE FIGHTER MISSION AS ENDED.\")\n",
    "        time.sleep(0.1)\n",
    "        \n",
    "    def teste_ok(self):\n",
    "        return True\n",
    "    \n",
    "sm = PopeyeFSM()"
   ]
  },
  {
   "cell_type": "code",
   "execution_count": 125,
   "id": "d43588f5",
   "metadata": {},
   "outputs": [
    {
     "data": {
      "image/svg+xml": [
       "<?xml version=\"1.0\" encoding=\"UTF-8\" standalone=\"no\"?>\n",
       "<!DOCTYPE svg PUBLIC \"-//W3C//DTD SVG 1.1//EN\"\n",
       " \"http://www.w3.org/Graphics/SVG/1.1/DTD/svg11.dtd\">\n",
       "<!-- Generated by graphviz version 2.43.0 (0)\n",
       " -->\n",
       "<!-- Title: list Pages: 1 -->\n",
       "<svg width=\"409pt\" height=\"134pt\"\n",
       " viewBox=\"0.00 0.00 409.00 134.00\" xmlns=\"http://www.w3.org/2000/svg\" xmlns:xlink=\"http://www.w3.org/1999/xlink\">\n",
       "<g id=\"graph0\" class=\"graph\" transform=\"scale(1 1) rotate(0) translate(4 130)\">\n",
       "<title>list</title>\n",
       "<polygon fill=\"white\" stroke=\"transparent\" points=\"-4,4 -4,-130 405,-130 405,4 -4,4\"/>\n",
       "<text text-anchor=\"middle\" x=\"200.5\" y=\"-7\" font-family=\"Arial\" font-size=\"10.00\">PopeyeFSM</text>\n",
       "<!-- i -->\n",
       "<g id=\"node1\" class=\"node\">\n",
       "<title>i</title>\n",
       "<ellipse fill=\"black\" stroke=\"black\" cx=\"7\" cy=\"-61\" rx=\"7\" ry=\"7\"/>\n",
       "<text text-anchor=\"middle\" x=\"7\" y=\"-60.7\" font-family=\"Times,serif\" font-size=\"1.00\">i</text>\n",
       "</g>\n",
       "<!-- idle -->\n",
       "<g id=\"node2\" class=\"node\">\n",
       "<title>idle</title>\n",
       "<path fill=\"white\" stroke=\"black\" d=\"M146,-79C146,-79 63,-79 63,-79 57,-79 51,-73 51,-67 51,-67 51,-55 51,-55 51,-49 57,-43 63,-43 63,-43 146,-43 146,-43 152,-43 158,-49 158,-55 158,-55 158,-67 158,-67 158,-73 152,-79 146,-79\"/>\n",
       "<text text-anchor=\"middle\" x=\"104.5\" y=\"-64\" font-family=\"Arial\" font-size=\"10.00\">Idle</text>\n",
       "<text text-anchor=\"middle\" x=\"104.5\" y=\"-53\" font-family=\"Arial\" font-size=\"10.00\">entry / on_ener__idle</text>\n",
       "</g>\n",
       "<!-- i&#45;&gt;idle -->\n",
       "<g id=\"edge1\" class=\"edge\">\n",
       "<title>i&#45;&gt;idle</title>\n",
       "<path fill=\"none\" stroke=\"blue\" d=\"M14.27,-61C20.24,-61 29.91,-61 40.72,-61\"/>\n",
       "<polygon fill=\"blue\" stroke=\"blue\" points=\"40.9,-64.5 50.9,-61 40.9,-57.5 40.9,-64.5\"/>\n",
       "</g>\n",
       "<!-- terminated -->\n",
       "<g id=\"node3\" class=\"node\">\n",
       "<title>terminated</title>\n",
       "<path fill=\"turquoise\" stroke=\"black\" stroke-width=\"2\" d=\"M379,-122C379,-122 262,-122 262,-122 256,-122 250,-116 250,-110 250,-110 250,-98 250,-98 250,-92 256,-86 262,-86 262,-86 379,-86 379,-86 385,-86 391,-92 391,-98 391,-98 391,-110 391,-110 391,-116 385,-122 379,-122\"/>\n",
       "<path fill=\"none\" stroke=\"black\" stroke-width=\"2\" d=\"M383,-126C383,-126 258,-126 258,-126 252,-126 246,-120 246,-114 246,-114 246,-94 246,-94 246,-88 252,-82 258,-82 258,-82 383,-82 383,-82 389,-82 395,-88 395,-94 395,-94 395,-114 395,-114 395,-120 389,-126 383,-126\"/>\n",
       "<text text-anchor=\"middle\" x=\"320.5\" y=\"-107\" font-family=\"Arial\" font-size=\"10.00\">Terminated</text>\n",
       "<text text-anchor=\"middle\" x=\"320.5\" y=\"-96\" font-family=\"Arial\" font-size=\"10.00\">entry / on_enter__terminated</text>\n",
       "</g>\n",
       "<!-- idle&#45;&gt;terminated -->\n",
       "<g id=\"edge2\" class=\"edge\">\n",
       "<title>idle&#45;&gt;terminated</title>\n",
       "<path fill=\"none\" stroke=\"blue\" d=\"M158.22,-72.32C164.21,-73.58 170.24,-74.82 176,-76 195.36,-79.95 216.22,-84.08 235.87,-87.93\"/>\n",
       "<polygon fill=\"blue\" stroke=\"blue\" points=\"235.23,-91.37 245.71,-89.85 236.57,-84.5 235.23,-91.37\"/>\n",
       "<text text-anchor=\"middle\" x=\"199\" y=\"-96.8\" font-family=\"Arial\" font-size=\"9.00\">event</text>\n",
       "<text text-anchor=\"middle\" x=\"199\" y=\"-86.8\" font-family=\"Arial\" font-size=\"9.00\">[&lt;lambda&gt;]</text>\n",
       "</g>\n",
       "<!-- fire_fighter__idle -->\n",
       "<g id=\"node4\" class=\"node\">\n",
       "<title>fire_fighter__idle</title>\n",
       "<path fill=\"white\" stroke=\"black\" d=\"M389,-55C389,-55 252,-55 252,-55 246,-55 240,-49 240,-43 240,-43 240,-31 240,-31 240,-25 246,-19 252,-19 252,-19 389,-19 389,-19 395,-19 401,-25 401,-31 401,-31 401,-43 401,-43 401,-49 395,-55 389,-55\"/>\n",
       "<text text-anchor=\"middle\" x=\"320.5\" y=\"-40\" font-family=\"Arial\" font-size=\"10.00\">FireFighter__Idle</text>\n",
       "<text text-anchor=\"middle\" x=\"320.5\" y=\"-29\" font-family=\"Arial\" font-size=\"10.00\">entry / on_enter__fire_fighter_idle</text>\n",
       "</g>\n",
       "<!-- idle&#45;&gt;fire_fighter__idle -->\n",
       "<g id=\"edge3\" class=\"edge\">\n",
       "<title>idle&#45;&gt;fire_fighter__idle</title>\n",
       "<path fill=\"none\" stroke=\"blue\" d=\"M158.12,-55.1C179.77,-52.67 205.46,-49.79 229.9,-47.05\"/>\n",
       "<polygon fill=\"blue\" stroke=\"blue\" points=\"230.37,-50.52 239.92,-45.92 229.59,-43.56 230.37,-50.52\"/>\n",
       "<text text-anchor=\"middle\" x=\"199\" y=\"-64.8\" font-family=\"Arial\" font-size=\"9.00\">event</text>\n",
       "<text text-anchor=\"middle\" x=\"199\" y=\"-54.8\" font-family=\"Arial\" font-size=\"9.00\">[&lt;lambda&gt;]</text>\n",
       "</g>\n",
       "<!-- fire_fighter__idle&#45;&gt;idle -->\n",
       "<g id=\"edge4\" class=\"edge\">\n",
       "<title>fire_fighter__idle&#45;&gt;idle</title>\n",
       "<path fill=\"none\" stroke=\"blue\" d=\"M239.71,-29.6C218.84,-29.22 196.46,-30.22 176,-34 168.91,-35.31 161.61,-37.3 154.53,-39.63\"/>\n",
       "<polygon fill=\"blue\" stroke=\"blue\" points=\"153.3,-36.35 145.03,-42.97 155.62,-42.95 153.3,-36.35\"/>\n",
       "<text text-anchor=\"middle\" x=\"199\" y=\"-36.8\" font-family=\"Arial\" font-size=\"9.00\">event</text>\n",
       "</g>\n",
       "</g>\n",
       "</svg>\n"
      ],
      "text/html": [
       "<div class=\"statemachine\"><?xml version=\"1.0\" encoding=\"UTF-8\" standalone=\"no\"?>\n",
       "<!DOCTYPE svg PUBLIC \"-//W3C//DTD SVG 1.1//EN\"\n",
       " \"http://www.w3.org/Graphics/SVG/1.1/DTD/svg11.dtd\">\n",
       "<!-- Generated by graphviz version 2.43.0 (0)\n",
       " -->\n",
       "<!-- Title: list Pages: 1 -->\n",
       "<svg width=\"409pt\" height=\"134pt\"\n",
       " viewBox=\"0.00 0.00 409.00 134.00\" xmlns=\"http://www.w3.org/2000/svg\" xmlns:xlink=\"http://www.w3.org/1999/xlink\">\n",
       "<g id=\"graph0\" class=\"graph\" transform=\"scale(1 1) rotate(0) translate(4 130)\">\n",
       "<title>list</title>\n",
       "<polygon fill=\"white\" stroke=\"transparent\" points=\"-4,4 -4,-130 405,-130 405,4 -4,4\"/>\n",
       "<text text-anchor=\"middle\" x=\"200.5\" y=\"-7\" font-family=\"Arial\" font-size=\"10.00\">PopeyeFSM</text>\n",
       "<!-- i -->\n",
       "<g id=\"node1\" class=\"node\">\n",
       "<title>i</title>\n",
       "<ellipse fill=\"black\" stroke=\"black\" cx=\"7\" cy=\"-61\" rx=\"7\" ry=\"7\"/>\n",
       "<text text-anchor=\"middle\" x=\"7\" y=\"-60.7\" font-family=\"Times,serif\" font-size=\"1.00\">i</text>\n",
       "</g>\n",
       "<!-- idle -->\n",
       "<g id=\"node2\" class=\"node\">\n",
       "<title>idle</title>\n",
       "<path fill=\"white\" stroke=\"black\" d=\"M146,-79C146,-79 63,-79 63,-79 57,-79 51,-73 51,-67 51,-67 51,-55 51,-55 51,-49 57,-43 63,-43 63,-43 146,-43 146,-43 152,-43 158,-49 158,-55 158,-55 158,-67 158,-67 158,-73 152,-79 146,-79\"/>\n",
       "<text text-anchor=\"middle\" x=\"104.5\" y=\"-64\" font-family=\"Arial\" font-size=\"10.00\">Idle</text>\n",
       "<text text-anchor=\"middle\" x=\"104.5\" y=\"-53\" font-family=\"Arial\" font-size=\"10.00\">entry / on_ener__idle</text>\n",
       "</g>\n",
       "<!-- i&#45;&gt;idle -->\n",
       "<g id=\"edge1\" class=\"edge\">\n",
       "<title>i&#45;&gt;idle</title>\n",
       "<path fill=\"none\" stroke=\"blue\" d=\"M14.27,-61C20.24,-61 29.91,-61 40.72,-61\"/>\n",
       "<polygon fill=\"blue\" stroke=\"blue\" points=\"40.9,-64.5 50.9,-61 40.9,-57.5 40.9,-64.5\"/>\n",
       "</g>\n",
       "<!-- terminated -->\n",
       "<g id=\"node3\" class=\"node\">\n",
       "<title>terminated</title>\n",
       "<path fill=\"turquoise\" stroke=\"black\" stroke-width=\"2\" d=\"M379,-122C379,-122 262,-122 262,-122 256,-122 250,-116 250,-110 250,-110 250,-98 250,-98 250,-92 256,-86 262,-86 262,-86 379,-86 379,-86 385,-86 391,-92 391,-98 391,-98 391,-110 391,-110 391,-116 385,-122 379,-122\"/>\n",
       "<path fill=\"none\" stroke=\"black\" stroke-width=\"2\" d=\"M383,-126C383,-126 258,-126 258,-126 252,-126 246,-120 246,-114 246,-114 246,-94 246,-94 246,-88 252,-82 258,-82 258,-82 383,-82 383,-82 389,-82 395,-88 395,-94 395,-94 395,-114 395,-114 395,-120 389,-126 383,-126\"/>\n",
       "<text text-anchor=\"middle\" x=\"320.5\" y=\"-107\" font-family=\"Arial\" font-size=\"10.00\">Terminated</text>\n",
       "<text text-anchor=\"middle\" x=\"320.5\" y=\"-96\" font-family=\"Arial\" font-size=\"10.00\">entry / on_enter__terminated</text>\n",
       "</g>\n",
       "<!-- idle&#45;&gt;terminated -->\n",
       "<g id=\"edge2\" class=\"edge\">\n",
       "<title>idle&#45;&gt;terminated</title>\n",
       "<path fill=\"none\" stroke=\"blue\" d=\"M158.22,-72.32C164.21,-73.58 170.24,-74.82 176,-76 195.36,-79.95 216.22,-84.08 235.87,-87.93\"/>\n",
       "<polygon fill=\"blue\" stroke=\"blue\" points=\"235.23,-91.37 245.71,-89.85 236.57,-84.5 235.23,-91.37\"/>\n",
       "<text text-anchor=\"middle\" x=\"199\" y=\"-96.8\" font-family=\"Arial\" font-size=\"9.00\">event</text>\n",
       "<text text-anchor=\"middle\" x=\"199\" y=\"-86.8\" font-family=\"Arial\" font-size=\"9.00\">[&lt;lambda&gt;]</text>\n",
       "</g>\n",
       "<!-- fire_fighter__idle -->\n",
       "<g id=\"node4\" class=\"node\">\n",
       "<title>fire_fighter__idle</title>\n",
       "<path fill=\"white\" stroke=\"black\" d=\"M389,-55C389,-55 252,-55 252,-55 246,-55 240,-49 240,-43 240,-43 240,-31 240,-31 240,-25 246,-19 252,-19 252,-19 389,-19 389,-19 395,-19 401,-25 401,-31 401,-31 401,-43 401,-43 401,-49 395,-55 389,-55\"/>\n",
       "<text text-anchor=\"middle\" x=\"320.5\" y=\"-40\" font-family=\"Arial\" font-size=\"10.00\">FireFighter__Idle</text>\n",
       "<text text-anchor=\"middle\" x=\"320.5\" y=\"-29\" font-family=\"Arial\" font-size=\"10.00\">entry / on_enter__fire_fighter_idle</text>\n",
       "</g>\n",
       "<!-- idle&#45;&gt;fire_fighter__idle -->\n",
       "<g id=\"edge3\" class=\"edge\">\n",
       "<title>idle&#45;&gt;fire_fighter__idle</title>\n",
       "<path fill=\"none\" stroke=\"blue\" d=\"M158.12,-55.1C179.77,-52.67 205.46,-49.79 229.9,-47.05\"/>\n",
       "<polygon fill=\"blue\" stroke=\"blue\" points=\"230.37,-50.52 239.92,-45.92 229.59,-43.56 230.37,-50.52\"/>\n",
       "<text text-anchor=\"middle\" x=\"199\" y=\"-64.8\" font-family=\"Arial\" font-size=\"9.00\">event</text>\n",
       "<text text-anchor=\"middle\" x=\"199\" y=\"-54.8\" font-family=\"Arial\" font-size=\"9.00\">[&lt;lambda&gt;]</text>\n",
       "</g>\n",
       "<!-- fire_fighter__idle&#45;&gt;idle -->\n",
       "<g id=\"edge4\" class=\"edge\">\n",
       "<title>fire_fighter__idle&#45;&gt;idle</title>\n",
       "<path fill=\"none\" stroke=\"blue\" d=\"M239.71,-29.6C218.84,-29.22 196.46,-30.22 176,-34 168.91,-35.31 161.61,-37.3 154.53,-39.63\"/>\n",
       "<polygon fill=\"blue\" stroke=\"blue\" points=\"153.3,-36.35 145.03,-42.97 155.62,-42.95 153.3,-36.35\"/>\n",
       "<text text-anchor=\"middle\" x=\"199\" y=\"-36.8\" font-family=\"Arial\" font-size=\"9.00\">event</text>\n",
       "</g>\n",
       "</g>\n",
       "</svg>\n",
       "</div>"
      ],
      "text/plain": [
       "PopeyeFSM(model=Model(state=terminated), state_field='state', current_state='terminated')"
      ]
     },
     "execution_count": 125,
     "metadata": {},
     "output_type": "execute_result"
    }
   ],
   "source": [
    "sm"
   ]
  },
  {
   "cell_type": "code",
   "execution_count": 117,
   "id": "af05af05",
   "metadata": {},
   "outputs": [
    {
     "ename": "ValueError",
     "evalue": "invalid literal for int() with base 10: ''",
     "output_type": "error",
     "traceback": [
      "\u001b[0;31m---------------------------------------------------------------------------\u001b[0m",
      "\u001b[0;31mValueError\u001b[0m                                Traceback (most recent call last)",
      "Cell \u001b[0;32mIn[117], line 1\u001b[0m\n\u001b[0;32m----> 1\u001b[0m \u001b[38;5;28;43mint\u001b[39;49m\u001b[43m(\u001b[49m\u001b[38;5;124;43m'\u001b[39;49m\u001b[38;5;124;43m'\u001b[39;49m\u001b[43m)\u001b[49m\n",
      "\u001b[0;31mValueError\u001b[0m: invalid literal for int() with base 10: ''"
     ]
    }
   ],
   "source": [
    "int('')"
   ]
  },
  {
   "cell_type": "code",
   "execution_count": 2,
   "id": "94c020f1",
   "metadata": {},
   "outputs": [],
   "source": [
    "class OrderControl(StateMachine):\n",
    "    payment = State(initial=True)\n",
    "    processing = State()\n",
    "    shipping = State()\n",
    "    completed = State(final=True)\n",
    "\n",
    "    add_to_order = payment.to(payment)\n",
    "    receive_payment = (\n",
    "        payment.to(processing, cond=\"payments_enough\")\n",
    "        | payment.to(payment, unless=\"payments_enough\")\n",
    "    )\n",
    "    process_order = processing.to(shipping, cond=\"payment_received\")\n",
    "    ship_order = shipping.to(completed)\n",
    "\n",
    "    def __init__(self):\n",
    "        super(OrderControl, self).__init__()\n",
    "        self.order_total = 0\n",
    "        self.payments = []\n",
    "        self.payment_received = False\n",
    "        \n",
    "    def before_add_to_order(self, amount):\n",
    "        self.order_total += amount\n",
    "        return self.order_total\n",
    "        \n",
    "    def on_enter_add_to_order(self):\n",
    "        self.payment_received = False\n",
    "        \n",
    "    def payments_enough(self, amount):\n",
    "        return sum(self.payments) + amount >= self.order_total\n",
    "        \n",
    "    def before_receive_payment(self, amount):\n",
    "        self.payments.append(amount)\n",
    "        return self.payments\n",
    "\n",
    "    def after_receive_payment(self):\n",
    "        self.payment_received = True"
   ]
  },
  {
   "cell_type": "code",
   "execution_count": 3,
   "id": "261b40fb",
   "metadata": {},
   "outputs": [
    {
     "ename": "NameError",
     "evalue": "name 'sm' is not defined",
     "output_type": "error",
     "traceback": [
      "\u001b[0;31m---------------------------------------------------------------------------\u001b[0m",
      "\u001b[0;31mNameError\u001b[0m                                 Traceback (most recent call last)",
      "Cell \u001b[0;32mIn[3], line 1\u001b[0m\n\u001b[0;32m----> 1\u001b[0m \u001b[43msm\u001b[49m\n",
      "\u001b[0;31mNameError\u001b[0m: name 'sm' is not defined"
     ]
    }
   ],
   "source": [
    "sm"
   ]
  },
  {
   "cell_type": "code",
   "execution_count": 4,
   "id": "509b5481",
   "metadata": {},
   "outputs": [],
   "source": [
    "class TrafficLightMachine(StateMachine):\n",
    "    \"A traffic light machine\"\n",
    "    green = State(initial=True)\n",
    "    yellow = State()\n",
    "    red = State()\n",
    "\n",
    "    cycle = (\n",
    "        green.to(yellow)\n",
    "        | yellow.to(red)\n",
    "        | red.to(green)\n",
    "    )\n",
    "\n",
    "    def before_cycle(self, event: str, source: State, target: State, message: str = \"\"):\n",
    "        message = \". \" + message if message else \"\"\n",
    "        return f\"Running {event} from {source.id} to {target.id}{message}\"\n",
    "\n",
    "    def on_enter_red(self):\n",
    "        print(\"Don't move.\")\n",
    "\n",
    "    def on_exit_red(self):\n",
    "        print(\"Go ahead!\")"
   ]
  },
  {
   "cell_type": "code",
   "execution_count": 24,
   "id": "4840eeb5",
   "metadata": {},
   "outputs": [
    {
     "name": "stdout",
     "output_type": "stream",
     "text": [
      "coucouc\n"
     ]
    }
   ],
   "source": [
    "sm = TrafficLightMachine()\n",
    "print(\"coucouc\")"
   ]
  },
  {
   "cell_type": "code",
   "execution_count": 22,
   "id": "160d83ee",
   "metadata": {},
   "outputs": [
    {
     "data": {
      "text/plain": [
       "'Running cycle from green to yellow'"
      ]
     },
     "execution_count": 22,
     "metadata": {},
     "output_type": "execute_result"
    }
   ],
   "source": [
    "sm.send(\"cycle\")"
   ]
  },
  {
   "cell_type": "code",
   "execution_count": 9,
   "id": "34af0a48",
   "metadata": {},
   "outputs": [],
   "source": [
    "img_path = \"readme_trafficlightmachine.png\"\n",
    "sm._graph().write_png(img_path)"
   ]
  },
  {
   "cell_type": "code",
   "execution_count": 27,
   "id": "60a32396",
   "metadata": {},
   "outputs": [
    {
     "data": {
      "text/plain": [
       "'Running cycle from green to yellow. Please, now slowdown.'"
      ]
     },
     "execution_count": 27,
     "metadata": {},
     "output_type": "execute_result"
    }
   ],
   "source": [
    "sm.send(\"cycle\", message=\"Please, now slowdown.\")"
   ]
  },
  {
   "cell_type": "code",
   "execution_count": 45,
   "id": "567bbe6f",
   "metadata": {},
   "outputs": [],
   "source": [
    "sm = OrderControl()"
   ]
  },
  {
   "cell_type": "code",
   "execution_count": 54,
   "id": "361ca605",
   "metadata": {},
   "outputs": [],
   "source": [
    "img_path = \"readme_addorder.png\"\n",
    "sm._graph().write_png(img_path)"
   ]
  },
  {
   "cell_type": "code",
   "execution_count": 53,
   "id": "060b4054",
   "metadata": {},
   "outputs": [
    {
     "data": {
      "text/plain": [
       "State('Completed', id='completed', value='completed', initial=False, final=True)"
      ]
     },
     "execution_count": 53,
     "metadata": {},
     "output_type": "execute_result"
    }
   ],
   "source": [
    "sm.send(\"ship_order\", 100)\n",
    "sm.current_state"
   ]
  }
 ],
 "metadata": {
  "kernelspec": {
   "display_name": "Python 3",
   "language": "python",
   "name": "python3"
  },
  "language_info": {
   "codemirror_mode": {
    "name": "ipython",
    "version": 3
   },
   "file_extension": ".py",
   "mimetype": "text/x-python",
   "name": "python",
   "nbconvert_exporter": "python",
   "pygments_lexer": "ipython3",
   "version": "3.10.12"
  }
 },
 "nbformat": 4,
 "nbformat_minor": 5
}
