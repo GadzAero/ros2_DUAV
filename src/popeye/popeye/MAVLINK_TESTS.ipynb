{
 "cells": [
  {
   "cell_type": "code",
   "execution_count": null,
   "metadata": {},
   "outputs": [
    {
     "data": {
      "text/plain": [
       "<module 'utils_MAV' from '/home/step/ros2_DUAV/src/popeye/popeye/utils_MAV.py'>"
      ]
     },
     "execution_count": 2,
     "metadata": {},
     "output_type": "execute_result"
    }
   ],
   "source": [
    "import importlib\n",
    "\n",
    "from pymavlink import mavutil\n",
    "import utils_MAV\n",
    "\n",
    "import time\n",
    "import sys\n",
    "\n",
    "importlib.reload(utils_MAV)\n",
    "\n",
    "# BASE SUR LE SITE\n",
    "# https://www.ardusub.com/developers/pymavlink.html#send-rc-joystick"
   ]
  },
  {
   "cell_type": "markdown",
   "metadata": {},
   "source": [
    "# CONNECTION"
   ]
  },
  {
   "cell_type": "code",
   "execution_count": 3,
   "metadata": {},
   "outputs": [
    {
     "name": "stdout",
     "output_type": "stream",
     "text": [
      "Waiting for heartbeat...\n",
      "Heartbeat received! System ready.\n"
     ]
    }
   ],
   "source": [
    "# master = mavutil.mavlink_connection('/dev/ttyUSB2', baud=57600)  # Adjust IP and port if needed\n",
    "# master = mavutil.mavlink_connection('/dev/ttyACM0', baud=115200)\n",
    "# master = mavutil.mavlink_connection('udp:127.0.0.1:14541')\n",
    "# master = mavutil.mavlink_connection('udp:127.0.0.1:14032', source_system=1, source_component=2)\n",
    "master = mavutil.mavlink_connection('tcp:127.0.0.1:5782', baud=115200)\n",
    "\n",
    "print(\"Waiting for heartbeat...\")\n",
    "master.wait_heartbeat()\n",
    "print(\"Heartbeat received! System ready.\")"
   ]
  },
  {
   "cell_type": "code",
   "execution_count": 10,
   "metadata": {},
   "outputs": [
    {
     "name": "stdout",
     "output_type": "stream",
     "text": [
      "Disconnecting...\n",
      "Connection closed.\n"
     ]
    }
   ],
   "source": [
    "# Disconnect\n",
    "print(\"Disconnecting...\")\n",
    "master.close()\n",
    "print(\"Connection closed.\")"
   ]
  },
  {
   "cell_type": "markdown",
   "metadata": {},
   "source": [
    "# SEND ORDERS"
   ]
  },
  {
   "cell_type": "code",
   "execution_count": 4,
   "metadata": {},
   "outputs": [
    {
     "name": "stdout",
     "output_type": "stream",
     "text": [
      "{'mavpackettype': 'AHRS', 'omegaIx': -0.004142985679209232, 'omegaIy': -0.004054615739732981, 'omegaIz': -0.0038487971760332584, 'accel_weight': 0.0, 'renorm_val': 0.0, 'error_rp': 0.002384152263402939, 'error_yaw': 0.0013009961694478989}\n",
      "{'mavpackettype': 'AHRS2', 'roll': 0.0016955796163529158, 'pitch': 0.0016277055256068707, 'yaw': -2.5938987731933594, 'altitude': 10.069999694824219, 'lat': 486127589, 'lng': 23963250}\n",
      "{'mavpackettype': 'ATTITUDE', 'time_boot_ms': 902159, 'roll': 0.0015671912115067244, 'pitch': 0.0010367953218519688, 'yaw': -2.586244583129883, 'rollspeed': -0.0015362254343926907, 'pitchspeed': -0.00029152166098356247, 'yawspeed': 0.0006178724579513073}\n",
      "{'mavpackettype': 'GLOBAL_POSITION_INT', 'time_boot_ms': 902159, 'lat': 486127590, 'lon': 23963249, 'alt': 10070, 'relative_alt': 9999, 'vx': 2, 'vy': 0, 'vz': 0, 'hdg': 21182}\n",
      "{'mavpackettype': 'VFR_HUD', 'airspeed': 0.022561602294445038, 'groundspeed': 0.022544391453266144, 'heading': 211, 'throttle': 36, 'alt': 10.069999694824219, 'climb': 0.000881051120813936}\n",
      "{'mavpackettype': 'SYS_STATUS', 'onboard_control_sensors_present': 1399979055, 'onboard_control_sensors_enabled': 1398930479, 'onboard_control_sensors_health': 1467087919, 'load': 0, 'voltage_battery': 12600, 'current_battery': 2810, 'battery_remaining': 0, 'drop_rate_comm': 0, 'errors_comm': 0, 'errors_count1': 0, 'errors_count2': 0, 'errors_count3': 0, 'errors_count4': 0}\n",
      "{'mavpackettype': 'POWER_STATUS', 'Vcc': 5000, 'Vservo': 0, 'flags': 0}\n",
      "{'mavpackettype': 'MEMINFO', 'brkval': 0, 'freemem': 65535, 'freemem32': 524288}\n",
      "{'mavpackettype': 'NAV_CONTROLLER_OUTPUT', 'nav_roll': 0.10238907486200333, 'nav_pitch': 0.06995660811662674, 'nav_bearing': -148, 'target_bearing': 0, 'wp_dist': 0, 'alt_error': 0.0008123778970912099, 'aspd_error': 0.0, 'xtrack_error': 0.022618770599365234}\n",
      "{'mavpackettype': 'MISSION_CURRENT', 'seq': 0, 'total': 0, 'mission_state': 1, 'mission_mode': 0}\n",
      "{'mavpackettype': 'SERVO_OUTPUT_RAW', 'time_usec': 902159825, 'port': 0, 'servo1_raw': 1574, 'servo2_raw': 1574, 'servo3_raw': 1575, 'servo4_raw': 1574, 'servo5_raw': 1575, 'servo6_raw': 1574, 'servo7_raw': 0, 'servo8_raw': 0, 'servo9_raw': 0, 'servo10_raw': 0, 'servo11_raw': 0, 'servo12_raw': 0, 'servo13_raw': 0, 'servo14_raw': 0, 'servo15_raw': 0, 'servo16_raw': 0}\n",
      "{'mavpackettype': 'RC_CHANNELS', 'time_boot_ms': 902159, 'chancount': 8, 'chan1_raw': 1500, 'chan2_raw': 1500, 'chan3_raw': 1000, 'chan4_raw': 1500, 'chan5_raw': 1800, 'chan6_raw': 1000, 'chan7_raw': 1000, 'chan8_raw': 1800, 'chan9_raw': 0, 'chan10_raw': 0, 'chan11_raw': 0, 'chan12_raw': 0, 'chan13_raw': 0, 'chan14_raw': 0, 'chan15_raw': 0, 'chan16_raw': 0, 'chan17_raw': 0, 'chan18_raw': 0, 'rssi': 255}\n",
      "{'mavpackettype': 'RAW_IMU', 'time_usec': 902159825, 'xacc': 0, 'yacc': 0, 'zacc': -1001, 'xgyro': 2, 'ygyro': 3, 'zgyro': 4, 'xmag': -183, 'ymag': 105, 'zmag': 433, 'id': 0, 'temperature': 4400}\n",
      "{'mavpackettype': 'SCALED_IMU2', 'time_boot_ms': 902159, 'xacc': 0, 'yacc': 0, 'zacc': -1001, 'xgyro': 2, 'ygyro': 3, 'zgyro': 4, 'xmag': -183, 'ymag': 105, 'zmag': 433, 'temperature': 4400}\n",
      "{'mavpackettype': 'SCALED_IMU3', 'time_boot_ms': 902159, 'xacc': 0, 'yacc': 0, 'zacc': 0, 'xgyro': 0, 'ygyro': 0, 'zgyro': 0, 'xmag': -183, 'ymag': 105, 'zmag': 433, 'temperature': 0}\n",
      "{'mavpackettype': 'SCALED_PRESSURE', 'time_boot_ms': 902159, 'press_abs': 1012.0372924804688, 'press_diff': 0.0, 'temperature': 3493, 'temperature_press_diff': 0}\n",
      "{'mavpackettype': 'SCALED_PRESSURE2', 'time_boot_ms': 902159, 'press_abs': 1012.0391235351562, 'press_diff': 0.0, 'temperature': 3493, 'temperature_press_diff': 0}\n",
      "{'mavpackettype': 'GPS_RAW_INT', 'time_usec': 901963000, 'fix_type': 6, 'lat': 486127589, 'lon': 23963250, 'alt': 10090, 'eph': 121, 'epv': 200, 'vel': 0, 'cog': 26923, 'satellites_visible': 10, 'alt_ellipsoid': 10090, 'h_acc': 300, 'v_acc': 300, 'vel_acc': 0, 'hdg_acc': 0, 'yaw': 0}\n",
      "{'mavpackettype': 'SYSTEM_TIME', 'time_unix_usec': 1744665901996762, 'time_boot_ms': 902159}\n",
      "{'mavpackettype': 'SIMSTATE', 'roll': 1.9138033167109825e-05, 'pitch': 0.00010212467168457806, 'yaw': -2.5937206745147705, 'xacc': -0.0004628434544429183, 'yacc': -0.0008096800302155316, 'zacc': -9.809020042419434, 'xgyro': -0.00012738132500089705, 'ygyro': 0.0035313398111611605, 'zgyro': 0.00014318551984615624, 'lat': 486127589, 'lng': 23963250}\n",
      "{'mavpackettype': 'WIND', 'direction': -180.0, 'speed': 0.0, 'speed_z': 0.0}\n",
      "{'mavpackettype': 'TERRAIN_REPORT', 'lat': 486127590, 'lon': 23963249, 'spacing': 100, 'terrain_height': 48.643455505371094, 'current_height': -38.573455810546875, 'pending': 0, 'loaded': 504}\n",
      "{'mavpackettype': 'EKF_STATUS_REPORT', 'flags': 831, 'velocity_variance': 0.008182044140994549, 'pos_horiz_variance': 0.005010825116187334, 'pos_vert_variance': 0.00018006122263614088, 'compass_variance': 0.014130211435258389, 'terrain_alt_variance': 0.0, 'airspeed_variance': 0.0}\n",
      "{'mavpackettype': 'LOCAL_POSITION_NED', 'time_boot_ms': 902159, 'x': 0.03991992026567459, 'y': -0.049825750291347504, 'z': -9.979204177856445, 'vx': 0.022153202444314957, 'vy': -0.00418153777718544, 'vz': -0.000881051120813936}\n",
      "{'mavpackettype': 'VIBRATION', 'time_usec': 902159825, 'vibration_x': 0.0029350805561989546, 'vibration_y': 0.0027076301630586386, 'vibration_z': 0.003723815316334367, 'clipping_0': 0, 'clipping_1': 0, 'clipping_2': 0}\n",
      "{'mavpackettype': 'BATTERY_STATUS', 'id': 0, 'battery_function': 0, 'type': 0, 'temperature': 32767, 'voltages': [12600, 65535, 65535, 65535, 65535, 65535, 65535, 65535, 65535, 65535], 'current_battery': 2810, 'current_consumed': 5489, 'energy_consumed': 2490, 'battery_remaining': 0, 'time_remaining': 0, 'charge_state': 1, 'voltages_ext': [0, 0, 0, 0], 'mode': 0, 'fault_bitmask': 0}\n",
      "{'mavpackettype': 'ESC_TELEMETRY_1_TO_4', 'temperature': [32, 32, 32, 32], 'voltage': [1679, 1679, 1679, 1679], 'current': [80, 80, 80, 80], 'totalcurrent': [1, 1, 1, 1], 'rpm': [0, 0, 0, 0], 'count': [30783, 30783, 30783, 30783]}\n",
      "{'mavpackettype': 'ESC_TELEMETRY_5_TO_8', 'temperature': [32, 32, 0, 0], 'voltage': [1679, 1679, 0, 0], 'current': [80, 80, 0, 0], 'totalcurrent': [1, 1, 0, 0], 'rpm': [0, 0, 0, 0], 'count': [30783, 30783, 0, 0]}\n",
      "{'mavpackettype': 'HEARTBEAT', 'type': 6, 'autopilot': 8, 'base_mode': 0, 'custom_mode': 0, 'system_status': 0, 'mavlink_version': 3}\n",
      "{'mavpackettype': 'AHRS', 'omegaIx': -0.0041423882357776165, 'omegaIy': -0.004054407589137554, 'omegaIz': -0.0038472034502774477, 'accel_weight': 0.0, 'renorm_val': 0.0, 'error_rp': 0.0023642713204026222, 'error_yaw': 0.0012790203327313066}\n",
      "{'mavpackettype': 'AHRS2', 'roll': 0.0017361530335620046, 'pitch': 0.0016678704414516687, 'yaw': -2.5938897132873535, 'altitude': 10.069999694824219, 'lat': 486127589, 'lng': 23963250}\n",
      "{'mavpackettype': 'ATTITUDE', 'time_boot_ms': 902259, 'roll': 0.001605469617061317, 'pitch': 0.0010742060840129852, 'yaw': -2.586240291595459, 'rollspeed': 0.0013661771081387997, 'pitchspeed': 0.002391315996646881, 'yawspeed': 0.0005380387883633375}\n",
      "{'mavpackettype': 'GLOBAL_POSITION_INT', 'time_boot_ms': 902259, 'lat': 486127590, 'lon': 23963249, 'alt': 10070, 'relative_alt': 9999, 'vx': 2, 'vy': 0, 'vz': 0, 'hdg': 21182}\n",
      "{'mavpackettype': 'VFR_HUD', 'airspeed': 0.022402558475732803, 'groundspeed': 0.022386571392416954, 'heading': 211, 'throttle': 36, 'alt': 10.069999694824219, 'climb': 0.0008461916004307568}\n",
      "{'mavpackettype': 'SYS_STATUS', 'onboard_control_sensors_present': 1399979055, 'onboard_control_sensors_enabled': 1398930479, 'onboard_control_sensors_health': 1467087919, 'load': 0, 'voltage_battery': 12600, 'current_battery': 2812, 'battery_remaining': 0, 'drop_rate_comm': 0, 'errors_comm': 0, 'errors_count1': 0, 'errors_count2': 0, 'errors_count3': 0, 'errors_count4': 0}\n",
      "{'mavpackettype': 'POWER_STATUS', 'Vcc': 5000, 'Vservo': 0, 'flags': 0}\n",
      "{'mavpackettype': 'MEMINFO', 'brkval': 0, 'freemem': 65535, 'freemem32': 524288}\n",
      "{'mavpackettype': 'NAV_CONTROLLER_OUTPUT', 'nav_roll': 0.10238907486200333, 'nav_pitch': 0.06995660811662674, 'nav_bearing': -148, 'target_bearing': 0, 'wp_dist': 0, 'alt_error': 0.000725707970559597, 'aspd_error': 0.0, 'xtrack_error': 0.022838672623038292}\n",
      "{'mavpackettype': 'MISSION_CURRENT', 'seq': 0, 'total': 0, 'mission_state': 1, 'mission_mode': 0}\n",
      "{'mavpackettype': 'SERVO_OUTPUT_RAW', 'time_usec': 902259785, 'port': 0, 'servo1_raw': 1574, 'servo2_raw': 1575, 'servo3_raw': 1574, 'servo4_raw': 1575, 'servo5_raw': 1574, 'servo6_raw': 1575, 'servo7_raw': 0, 'servo8_raw': 0, 'servo9_raw': 0, 'servo10_raw': 0, 'servo11_raw': 0, 'servo12_raw': 0, 'servo13_raw': 0, 'servo14_raw': 0, 'servo15_raw': 0, 'servo16_raw': 0}\n",
      "{'mavpackettype': 'RC_CHANNELS', 'time_boot_ms': 902259, 'chancount': 8, 'chan1_raw': 1500, 'chan2_raw': 1500, 'chan3_raw': 1000, 'chan4_raw': 1500, 'chan5_raw': 1800, 'chan6_raw': 1000, 'chan7_raw': 1000, 'chan8_raw': 1800, 'chan9_raw': 0, 'chan10_raw': 0, 'chan11_raw': 0, 'chan12_raw': 0, 'chan13_raw': 0, 'chan14_raw': 0, 'chan15_raw': 0, 'chan16_raw': 0, 'chan17_raw': 0, 'chan18_raw': 0, 'rssi': 255}\n",
      "{'mavpackettype': 'RAW_IMU', 'time_usec': 902259785, 'xacc': 0, 'yacc': 0, 'zacc': -1001, 'xgyro': 5, 'ygyro': 6, 'zgyro': 4, 'xmag': -183, 'ymag': 105, 'zmag': 433, 'id': 0, 'temperature': 4400}\n",
      "{'mavpackettype': 'SCALED_IMU2', 'time_boot_ms': 902259, 'xacc': 0, 'yacc': 0, 'zacc': -1001, 'xgyro': 5, 'ygyro': 6, 'zgyro': 4, 'xmag': -183, 'ymag': 105, 'zmag': 433, 'temperature': 4400}\n",
      "{'mavpackettype': 'SCALED_IMU3', 'time_boot_ms': 902259, 'xacc': 0, 'yacc': 0, 'zacc': 0, 'xgyro': 0, 'ygyro': 0, 'zgyro': 0, 'xmag': -183, 'ymag': 105, 'zmag': 433, 'temperature': 0}\n",
      "{'mavpackettype': 'SCALED_PRESSURE', 'time_boot_ms': 902259, 'press_abs': 1012.0372924804688, 'press_diff': 0.0, 'temperature': 3493, 'temperature_press_diff': 0}\n",
      "{'mavpackettype': 'SCALED_PRESSURE2', 'time_boot_ms': 902259, 'press_abs': 1012.0372924804688, 'press_diff': 0.0, 'temperature': 3493, 'temperature_press_diff': 0}\n",
      "{'mavpackettype': 'GPS_RAW_INT', 'time_usec': 902163000, 'fix_type': 6, 'lat': 486127589, 'lon': 23963250, 'alt': 10090, 'eph': 121, 'epv': 200, 'vel': 0, 'cog': 27173, 'satellites_visible': 10, 'alt_ellipsoid': 10090, 'h_acc': 300, 'v_acc': 300, 'vel_acc': 0, 'hdg_acc': 0, 'yaw': 0}\n",
      "{'mavpackettype': 'SYSTEM_TIME', 'time_unix_usec': 1744665902096722, 'time_boot_ms': 902259}\n",
      "{'mavpackettype': 'SIMSTATE', 'roll': 6.939446029718965e-05, 'pitch': 0.00014438637299463153, 'yaw': -2.5937047004699707, 'xacc': -0.0003908680519089103, 'yacc': -0.0007727026240900159, 'zacc': -9.803216934204102, 'xgyro': 0.0032208338379859924, 'ygyro': -0.0005495387595146894, 'zgyro': 0.00015186054224614054, 'lat': 486127589, 'lng': 23963250}\n",
      "{'mavpackettype': 'WIND', 'direction': -180.0, 'speed': 0.0, 'speed_z': 0.0}\n",
      "{'mavpackettype': 'TERRAIN_REPORT', 'lat': 486127590, 'lon': 23963249, 'spacing': 100, 'terrain_height': 48.643455505371094, 'current_height': -38.573455810546875, 'pending': 0, 'loaded': 504}\n",
      "{'mavpackettype': 'EKF_STATUS_REPORT', 'flags': 831, 'velocity_variance': 0.00815929751843214, 'pos_horiz_variance': 0.004987687338143587, 'pos_vert_variance': 0.0003999585460405797, 'compass_variance': 0.014141731895506382, 'terrain_alt_variance': 0.0, 'airspeed_variance': 0.0}\n",
      "{'mavpackettype': 'LOCAL_POSITION_NED', 'time_boot_ms': 902259, 'x': 0.0397053062915802, 'y': -0.04977405443787575, 'z': -9.979290962219238, 'vx': 0.022035978734493256, 'vy': -0.003946421667933464, 'vz': -0.0008461916004307568}\n",
      "{'mavpackettype': 'VIBRATION', 'time_usec': 902259785, 'vibration_x': 0.0027328699361532927, 'vibration_y': 0.0027857429813593626, 'vibration_z': 0.003884344594553113, 'clipping_0': 0, 'clipping_1': 0, 'clipping_2': 0}\n",
      "{'mavpackettype': 'BATTERY_STATUS', 'id': 0, 'battery_function': 0, 'type': 0, 'temperature': 32767, 'voltages': [12600, 65535, 65535, 65535, 65535, 65535, 65535, 65535, 65535, 65535], 'current_battery': 2812, 'current_consumed': 5490, 'energy_consumed': 2490, 'battery_remaining': 0, 'time_remaining': 0, 'charge_state': 1, 'voltages_ext': [0, 0, 0, 0], 'mode': 0, 'fault_bitmask': 0}\n",
      "{'mavpackettype': 'ESC_TELEMETRY_1_TO_4', 'temperature': [32, 32, 32, 32], 'voltage': [1679, 1679, 1679, 1679], 'current': [80, 80, 80, 80], 'totalcurrent': [1, 1, 1, 1], 'rpm': [0, 0, 0, 0], 'count': [30823, 30823, 30823, 30823]}\n",
      "{'mavpackettype': 'ESC_TELEMETRY_5_TO_8', 'temperature': [32, 32, 0, 0], 'voltage': [1679, 1679, 0, 0], 'current': [80, 80, 0, 0], 'totalcurrent': [1, 1, 0, 0], 'rpm': [0, 0, 0, 0], 'count': [30823, 30823, 0, 0]}\n",
      "{'mavpackettype': 'AHRS', 'omegaIx': -0.004140002653002739, 'omegaIy': -0.004051703028380871, 'omegaIz': -0.003846168052405119, 'accel_weight': 0.0, 'renorm_val': 0.0, 'error_rp': 0.0023642713204026222, 'error_yaw': 0.0012694256147369742}\n",
      "{'mavpackettype': 'AHRS2', 'roll': 0.0017524210270494223, 'pitch': 0.0016496040625497699, 'yaw': -2.5938782691955566, 'altitude': 10.069999694824219, 'lat': 486127589, 'lng': 23963250}\n",
      "{'mavpackettype': 'ATTITUDE', 'time_boot_ms': 902359, 'roll': 0.0016194203635677695, 'pitch': 0.0010574802290648222, 'yaw': -2.5862326622009277, 'rollspeed': 0.002583575900644064, 'pitchspeed': -6.271665915846825e-05, 'yawspeed': 0.0005685454234480858}\n",
      "{'mavpackettype': 'GLOBAL_POSITION_INT', 'time_boot_ms': 902359, 'lat': 486127590, 'lon': 23963249, 'alt': 10070, 'relative_alt': 9999, 'vx': 2, 'vy': 0, 'vz': 0, 'hdg': 21182}\n",
      "{'mavpackettype': 'VFR_HUD', 'airspeed': 0.022540051490068436, 'groundspeed': 0.02252630516886711, 'heading': 211, 'throttle': 36, 'alt': 10.069999694824219, 'climb': 0.000787070079240948}\n",
      "{'mavpackettype': 'SYS_STATUS', 'onboard_control_sensors_present': 1399979055, 'onboard_control_sensors_enabled': 1398930479, 'onboard_control_sensors_health': 1467087919, 'load': 0, 'voltage_battery': 12600, 'current_battery': 2810, 'battery_remaining': 0, 'drop_rate_comm': 0, 'errors_comm': 0, 'errors_count1': 0, 'errors_count2': 0, 'errors_count3': 0, 'errors_count4': 0}\n",
      "{'mavpackettype': 'POWER_STATUS', 'Vcc': 5000, 'Vservo': 0, 'flags': 0}\n",
      "{'mavpackettype': 'MEMINFO', 'brkval': 0, 'freemem': 65535, 'freemem32': 524288}\n",
      "{'mavpackettype': 'NAV_CONTROLLER_OUTPUT', 'nav_roll': 0.10238907486200333, 'nav_pitch': 0.06995660811662674, 'nav_bearing': -148, 'target_bearing': 0, 'wp_dist': 0, 'alt_error': 0.0005969238118268549, 'aspd_error': 0.0, 'xtrack_error': 0.022603897377848625}\n",
      "{'mavpackettype': 'MISSION_CURRENT', 'seq': 0, 'total': 0, 'mission_state': 1, 'mission_mode': 0}\n",
      "{'mavpackettype': 'SERVO_OUTPUT_RAW', 'time_usec': 902359745, 'port': 0, 'servo1_raw': 1575, 'servo2_raw': 1574, 'servo3_raw': 1574, 'servo4_raw': 1575, 'servo5_raw': 1574, 'servo6_raw': 1575, 'servo7_raw': 0, 'servo8_raw': 0, 'servo9_raw': 0, 'servo10_raw': 0, 'servo11_raw': 0, 'servo12_raw': 0, 'servo13_raw': 0, 'servo14_raw': 0, 'servo15_raw': 0, 'servo16_raw': 0}\n",
      "{'mavpackettype': 'RC_CHANNELS', 'time_boot_ms': 902359, 'chancount': 8, 'chan1_raw': 1500, 'chan2_raw': 1500, 'chan3_raw': 1000, 'chan4_raw': 1500, 'chan5_raw': 1800, 'chan6_raw': 1000, 'chan7_raw': 1000, 'chan8_raw': 1800, 'chan9_raw': 0, 'chan10_raw': 0, 'chan11_raw': 0, 'chan12_raw': 0, 'chan13_raw': 0, 'chan14_raw': 0, 'chan15_raw': 0, 'chan16_raw': 0, 'chan17_raw': 0, 'chan18_raw': 0, 'rssi': 255}\n",
      "{'mavpackettype': 'RAW_IMU', 'time_usec': 902359745, 'xacc': 0, 'yacc': 0, 'zacc': -1001, 'xgyro': 6, 'ygyro': 3, 'zgyro': 4, 'xmag': -183, 'ymag': 105, 'zmag': 433, 'id': 0, 'temperature': 4400}\n",
      "{'mavpackettype': 'SCALED_IMU2', 'time_boot_ms': 902359, 'xacc': 0, 'yacc': 0, 'zacc': -1000, 'xgyro': 6, 'ygyro': 4, 'zgyro': 4, 'xmag': -183, 'ymag': 105, 'zmag': 433, 'temperature': 4400}\n",
      "{'mavpackettype': 'SCALED_IMU3', 'time_boot_ms': 902359, 'xacc': 0, 'yacc': 0, 'zacc': 0, 'xgyro': 0, 'ygyro': 0, 'zgyro': 0, 'xmag': -183, 'ymag': 105, 'zmag': 433, 'temperature': 0}\n",
      "{'mavpackettype': 'SCALED_PRESSURE', 'time_boot_ms': 902359, 'press_abs': 1012.0372924804688, 'press_diff': 0.0, 'temperature': 3493, 'temperature_press_diff': 0}\n",
      "{'mavpackettype': 'SCALED_PRESSURE2', 'time_boot_ms': 902359, 'press_abs': 1012.0323486328125, 'press_diff': 0.0, 'temperature': 3493, 'temperature_press_diff': 0}\n"
     ]
    },
    {
     "ename": "KeyboardInterrupt",
     "evalue": "",
     "output_type": "error",
     "traceback": [
      "\u001b[0;31m---------------------------------------------------------------------------\u001b[0m",
      "\u001b[0;31mKeyboardInterrupt\u001b[0m                         Traceback (most recent call last)",
      "Cell \u001b[0;32mIn[4], line 6\u001b[0m\n\u001b[1;32m      4\u001b[0m \u001b[38;5;28;01mexcept\u001b[39;00m:\n\u001b[1;32m      5\u001b[0m     \u001b[38;5;28;01mpass\u001b[39;00m\n\u001b[0;32m----> 6\u001b[0m \u001b[43mtime\u001b[49m\u001b[38;5;241;43m.\u001b[39;49m\u001b[43msleep\u001b[49m\u001b[43m(\u001b[49m\u001b[38;5;241;43m0.1\u001b[39;49m\u001b[43m)\u001b[49m\n",
      "\u001b[0;31mKeyboardInterrupt\u001b[0m: "
     ]
    }
   ],
   "source": [
    "for i in range(1000):\n",
    "    try:\n",
    "        print(master.recv_match().to_dict())\n",
    "    except:\n",
    "        pass\n",
    "    time.sleep(0.1)"
   ]
  },
  {
   "cell_type": "code",
   "execution_count": 5,
   "metadata": {},
   "outputs": [
    {
     "data": {
      "text/plain": [
       "True"
      ]
     },
     "execution_count": 5,
     "metadata": {},
     "output_type": "execute_result"
    }
   ],
   "source": [
    "importlib.reload(utils_MAV)\n",
    "utils_MAV.mav_arm(master)"
   ]
  },
  {
   "cell_type": "code",
   "execution_count": 6,
   "metadata": {},
   "outputs": [
    {
     "data": {
      "text/plain": [
       "True"
      ]
     },
     "execution_count": 6,
     "metadata": {},
     "output_type": "execute_result"
    }
   ],
   "source": [
    "importlib.reload(utils_MAV)\n",
    "utils_MAV.mav_disarm(master, True)"
   ]
  },
  {
   "cell_type": "code",
   "execution_count": null,
   "metadata": {},
   "outputs": [
    {
     "name": "stdout",
     "output_type": "stream",
     "text": [
      "[COMMAND SET MODE] Mode changed > RTL\n"
     ]
    },
    {
     "data": {
      "text/plain": [
       "True"
      ]
     },
     "execution_count": 78,
     "metadata": {},
     "output_type": "execute_result"
    }
   ],
   "source": [
    "importlib.reload(utils_MAV)\n",
    "utils_MAV.mav_set_mode(master, \"RTL\")"
   ]
  },
  {
   "cell_type": "code",
   "execution_count": 7,
   "metadata": {},
   "outputs": [
    {
     "data": {
      "text/plain": [
       "True"
      ]
     },
     "execution_count": 7,
     "metadata": {},
     "output_type": "execute_result"
    }
   ],
   "source": [
    "importlib.reload(utils_MAV)\n",
    "utils_MAV.mav_set_mode(master, \"GUIDED\")\n",
    "utils_MAV.mav_arm(master)\n",
    "utils_MAV.mav_takeoff(master)\n",
    "# time.sleep(7)\n",
    "# utils_MAV.mav_reposition(master, 45.4389466, -0.4283327, 8)"
   ]
  },
  {
   "cell_type": "code",
   "execution_count": 17,
   "metadata": {},
   "outputs": [
    {
     "name": "stdout",
     "output_type": "stream",
     "text": [
      "\u001b[31m[MAV_REPOSITION] Command is invalid (is supported but has invalid parameters). Retrying same command and parameters will not work.\n"
     ]
    },
    {
     "data": {
      "text/plain": [
       "False"
      ]
     },
     "execution_count": 17,
     "metadata": {},
     "output_type": "execute_result"
    }
   ],
   "source": [
    "importlib.reload(utils_MAV)\n",
    "utils_MAV.mav_reposition(master, 10, 10, -6, True)"
   ]
  }
 ],
 "metadata": {
  "kernelspec": {
   "display_name": "Python 3",
   "language": "python",
   "name": "python3"
  },
  "language_info": {
   "codemirror_mode": {
    "name": "ipython",
    "version": 3
   },
   "file_extension": ".py",
   "mimetype": "text/x-python",
   "name": "python",
   "nbconvert_exporter": "python",
   "pygments_lexer": "ipython3",
   "version": "3.10.12"
  }
 },
 "nbformat": 4,
 "nbformat_minor": 2
}
