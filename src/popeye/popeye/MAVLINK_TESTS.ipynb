{
 "cells": [
  {
   "cell_type": "code",
   "execution_count": 2,
   "metadata": {},
   "outputs": [],
   "source": [
    "import importlib\n",
    "\n",
    "from pymavlink import mavutil\n",
    "# import utils_MAV\n",
    "\n",
    "import time\n",
    "import sys\n",
    "\n",
    "# importlib.reload(utils_MAV)\n",
    "\n",
    "# BASE SUR LE SITE\n",
    "# https://www.ardusub.com/developers/pymavlink.html#send-rc-joystick"
   ]
  },
  {
   "cell_type": "markdown",
   "metadata": {},
   "source": [
    "# CONNECTION"
   ]
  },
  {
   "cell_type": "code",
   "execution_count": 3,
   "metadata": {},
   "outputs": [
    {
     "name": "stdout",
     "output_type": "stream",
     "text": [
      "Waiting for heartbeat...\n",
      "Heartbeat received! System ready.\n"
     ]
    }
   ],
   "source": [
    "# master = mavutil.mavlink_connection('/dev/ttyUSB2', baud=57600)  # Adjust IP and port if needed\n",
    "# master = mavutil.mavlink_connection('/dev/ttyACM0', baud=115200)\n",
    "# master = mavutil.mavlink_connection('udp:127.0.0.1:14541')\n",
    "# master = mavutil.mavlink_connection('udp:127.0.0.1:14032', source_system=1, source_component=2)\n",
    "master = mavutil.mavlink_connection('tcp:127.0.0.1:5783', baud=115200)\n",
    "# self.mav_master = mavutil.mavlink_connection('/dev/ttyACM0', baud=115200)\n",
    "\n",
    "print(\"Waiting for heartbeat...\")\n",
    "master.wait_heartbeat()\n",
    "print(\"Heartbeat received! System ready.\")"
   ]
  },
  {
   "cell_type": "code",
   "execution_count": 45,
   "metadata": {},
   "outputs": [
    {
     "name": "stdout",
     "output_type": "stream",
     "text": [
      "Disconnecting...\n",
      "Connection closed.\n"
     ]
    }
   ],
   "source": [
    "# Disconnect\n",
    "print(\"Disconnecting...\")\n",
    "master.close()\n",
    "print(\"Connection closed.\")"
   ]
  },
  {
   "cell_type": "code",
   "execution_count": 35,
   "metadata": {},
   "outputs": [],
   "source": [
    "for i in range(255):\n",
    "    for j in range(255):\n",
    "        master.mav.command_long_send(\n",
    "            i, j,\n",
    "            mavutil.mavlink.MAV_CMD_SET_MESSAGE_INTERVAL, 0,\n",
    "            245, 1_000_000, 0, 0, 0, 0, 2)"
   ]
  },
  {
   "cell_type": "code",
   "execution_count": 48,
   "metadata": {},
   "outputs": [],
   "source": [
    "master.mav.command_long_send(\n",
    "            master.target_system, master.target_component,\n",
    "            mavutil.mavlink.MAV_CMD_SET_MESSAGE_INTERVAL, 0,\n",
    "            245, 1_000_000, 0, 0, 0, 0, 0)\n",
    "master.mav.command_long_send(\n",
    "            master.target_system, master.target_component,\n",
    "            mavutil.mavlink.MAV_CMD_SET_MESSAGE_INTERVAL, 0,\n",
    "            253, 500_000, 0, 0, 0, 0, 0)"
   ]
  },
  {
   "cell_type": "code",
   "execution_count": 27,
   "metadata": {},
   "outputs": [
    {
     "name": "stdout",
     "output_type": "stream",
     "text": [
      "Heartbeat from system (system 1 component 0)\n"
     ]
    }
   ],
   "source": [
    "print(\"Heartbeat from system (system %u component %u)\" % (master.target_system, master.target_component))"
   ]
  },
  {
   "cell_type": "code",
   "execution_count": 31,
   "metadata": {},
   "outputs": [
    {
     "name": "stdout",
     "output_type": "stream",
     "text": [
      "Heartbeat from system (system 1 component 0)\n",
      "Command accepted\n"
     ]
    }
   ],
   "source": [
    "from pymavlink import mavutil\n",
    "\n",
    "# Start a connection listening on a UDP port\n",
    "connection = master\n",
    "\n",
    "# Wait for the first heartbeat to set the system and component ID of remote system for the link\n",
    "connection.wait_heartbeat()\n",
    "print(\"Heartbeat from system (system %u component %u)\" % (connection.target_system, connection.target_component))\n",
    "\n",
    "# Define command_long_encode message to send MAV_CMD_SET_MESSAGE_INTERVAL command\n",
    "# param1: MAVLINK_MSG_ID_BATTERY_STATUS (message to stream)\n",
    "# param2: 1000000 (Stream interval in microseconds)\n",
    "message = connection.mav.command_long_encode(\n",
    "        connection.target_system,  # Target system ID\n",
    "        connection.target_component,  # Target component ID\n",
    "        mavutil.mavlink.MAV_CMD_SET_MESSAGE_INTERVAL,  # ID of command to send\n",
    "        0,  # Confirmation\n",
    "        mavutil.mavlink.MAVLINK_MSG_ID_BATTERY_STATUS,  # param1: Message ID to be streamed\n",
    "        10000, # param2: Interval in microseconds\n",
    "        0,       # param3 (unused)\n",
    "        0,       # param4 (unused)\n",
    "        0,       # param5 (unused)\n",
    "        0,       # param5 (unused)\n",
    "        0        # param6 (unused)\n",
    "        )\n",
    "\n",
    "# Send the COMMAND_LONG\n",
    "connection.mav.send(message)\n",
    "\n",
    "# Wait for a response (blocking) to the MAV_CMD_SET_MESSAGE_INTERVAL command and print result\n",
    "response = connection.recv_match(type='COMMAND_ACK', blocking=True)\n",
    "if response and response.command == mavutil.mavlink.MAV_CMD_SET_MESSAGE_INTERVAL and response.result == mavutil.mavlink.MAV_RESULT_ACCEPTED:\n",
    "    print(\"Command accepted\")\n",
    "else:\n",
    "    print(\"Command failed\")"
   ]
  },
  {
   "cell_type": "markdown",
   "metadata": {},
   "source": [
    "# SEND ORDERS"
   ]
  },
  {
   "cell_type": "code",
   "execution_count": 4,
   "metadata": {},
   "outputs": [
    {
     "name": "stdout",
     "output_type": "stream",
     "text": [
      "{'mavpackettype': 'HEARTBEAT', 'type': 13, 'autopilot': 3, 'base_mode': 217, 'custom_mode': 4, 'system_status': 4, 'mavlink_version': 3}\n",
      "{'mavpackettype': 'SYS_STATUS', 'onboard_control_sensors_present': 1399979055, 'onboard_control_sensors_enabled': 1398930479, 'onboard_control_sensors_health': 1467087919, 'load': 0, 'voltage_battery': 12600, 'current_battery': 2809, 'battery_remaining': 0, 'drop_rate_comm': 0, 'errors_comm': 0, 'errors_count1': 0, 'errors_count2': 0, 'errors_count3': 0, 'errors_count4': 0}\n",
      "{'mavpackettype': 'GPS_GLOBAL_ORIGIN', 'latitude': 486127587, 'longitude': 23963256, 'altitude': 100, 'time_usec': 2210639557}\n",
      "{'mavpackettype': 'HOME_POSITION', 'latitude': 486127584, 'longitude': 23963255, 'altitude': 70, 'x': -0.03339565545320511, 'y': -0.007359788287431002, 'z': 0.029999999329447746, 'q': [nan, nan, nan, nan], 'approach_x': 0.0, 'approach_y': 0.0, 'approach_z': 0.0, 'time_usec': 2210639557}\n",
      "{'mavpackettype': 'HEARTBEAT', 'type': 13, 'autopilot': 3, 'base_mode': 217, 'custom_mode': 4, 'system_status': 4, 'mavlink_version': 3}\n",
      "{'mavpackettype': 'HEARTBEAT', 'type': 13, 'autopilot': 3, 'base_mode': 217, 'custom_mode': 4, 'system_status': 4, 'mavlink_version': 3}\n",
      "{'mavpackettype': 'HEARTBEAT', 'type': 13, 'autopilot': 3, 'base_mode': 217, 'custom_mode': 4, 'system_status': 4, 'mavlink_version': 3}\n",
      "{'mavpackettype': 'HEARTBEAT', 'type': 13, 'autopilot': 3, 'base_mode': 217, 'custom_mode': 4, 'system_status': 4, 'mavlink_version': 3}\n",
      "{'mavpackettype': 'HEARTBEAT', 'type': 13, 'autopilot': 3, 'base_mode': 217, 'custom_mode': 4, 'system_status': 4, 'mavlink_version': 3}\n",
      "{'mavpackettype': 'HEARTBEAT', 'type': 13, 'autopilot': 3, 'base_mode': 217, 'custom_mode': 4, 'system_status': 4, 'mavlink_version': 3}\n",
      "{'mavpackettype': 'HEARTBEAT', 'type': 13, 'autopilot': 3, 'base_mode': 217, 'custom_mode': 4, 'system_status': 4, 'mavlink_version': 3}\n",
      "{'mavpackettype': 'HEARTBEAT', 'type': 13, 'autopilot': 3, 'base_mode': 217, 'custom_mode': 4, 'system_status': 4, 'mavlink_version': 3}\n",
      "{'mavpackettype': 'HEARTBEAT', 'type': 13, 'autopilot': 3, 'base_mode': 217, 'custom_mode': 4, 'system_status': 4, 'mavlink_version': 3}\n",
      "{'mavpackettype': 'HEARTBEAT', 'type': 13, 'autopilot': 3, 'base_mode': 217, 'custom_mode': 4, 'system_status': 4, 'mavlink_version': 3}\n",
      "{'mavpackettype': 'TIMESYNC', 'tc1': 0, 'ts1': 2220642221001}\n",
      "{'mavpackettype': 'HEARTBEAT', 'type': 13, 'autopilot': 3, 'base_mode': 217, 'custom_mode': 4, 'system_status': 4, 'mavlink_version': 3}\n",
      "{'mavpackettype': 'HEARTBEAT', 'type': 13, 'autopilot': 3, 'base_mode': 217, 'custom_mode': 4, 'system_status': 4, 'mavlink_version': 3}\n",
      "{'mavpackettype': 'HEARTBEAT', 'type': 13, 'autopilot': 3, 'base_mode': 217, 'custom_mode': 4, 'system_status': 4, 'mavlink_version': 3}\n",
      "{'mavpackettype': 'HEARTBEAT', 'type': 13, 'autopilot': 3, 'base_mode': 217, 'custom_mode': 4, 'system_status': 4, 'mavlink_version': 3}\n",
      "{'mavpackettype': 'HEARTBEAT', 'type': 13, 'autopilot': 3, 'base_mode': 217, 'custom_mode': 4, 'system_status': 4, 'mavlink_version': 3}\n",
      "{'mavpackettype': 'HEARTBEAT', 'type': 13, 'autopilot': 3, 'base_mode': 217, 'custom_mode': 4, 'system_status': 4, 'mavlink_version': 3}\n",
      "{'mavpackettype': 'HEARTBEAT', 'type': 13, 'autopilot': 3, 'base_mode': 217, 'custom_mode': 4, 'system_status': 4, 'mavlink_version': 3}\n",
      "{'mavpackettype': 'HEARTBEAT', 'type': 13, 'autopilot': 3, 'base_mode': 217, 'custom_mode': 4, 'system_status': 4, 'mavlink_version': 3}\n",
      "{'mavpackettype': 'HEARTBEAT', 'type': 13, 'autopilot': 3, 'base_mode': 217, 'custom_mode': 4, 'system_status': 4, 'mavlink_version': 3}\n",
      "{'mavpackettype': 'HEARTBEAT', 'type': 13, 'autopilot': 3, 'base_mode': 217, 'custom_mode': 4, 'system_status': 4, 'mavlink_version': 3}\n",
      "{'mavpackettype': 'TIMESYNC', 'tc1': 0, 'ts1': 2230644885001}\n",
      "{'mavpackettype': 'HEARTBEAT', 'type': 13, 'autopilot': 3, 'base_mode': 217, 'custom_mode': 4, 'system_status': 4, 'mavlink_version': 3}\n",
      "{'mavpackettype': 'HEARTBEAT', 'type': 13, 'autopilot': 3, 'base_mode': 217, 'custom_mode': 4, 'system_status': 4, 'mavlink_version': 3}\n",
      "{'mavpackettype': 'HEARTBEAT', 'type': 13, 'autopilot': 3, 'base_mode': 217, 'custom_mode': 4, 'system_status': 4, 'mavlink_version': 3}\n",
      "{'mavpackettype': 'HEARTBEAT', 'type': 13, 'autopilot': 3, 'base_mode': 217, 'custom_mode': 4, 'system_status': 4, 'mavlink_version': 3}\n",
      "{'mavpackettype': 'HEARTBEAT', 'type': 13, 'autopilot': 3, 'base_mode': 217, 'custom_mode': 4, 'system_status': 4, 'mavlink_version': 3}\n",
      "{'mavpackettype': 'HEARTBEAT', 'type': 13, 'autopilot': 3, 'base_mode': 217, 'custom_mode': 4, 'system_status': 4, 'mavlink_version': 3}\n",
      "{'mavpackettype': 'HEARTBEAT', 'type': 13, 'autopilot': 3, 'base_mode': 217, 'custom_mode': 4, 'system_status': 4, 'mavlink_version': 3}\n",
      "{'mavpackettype': 'HEARTBEAT', 'type': 13, 'autopilot': 3, 'base_mode': 217, 'custom_mode': 4, 'system_status': 4, 'mavlink_version': 3}\n",
      "{'mavpackettype': 'HEARTBEAT', 'type': 13, 'autopilot': 3, 'base_mode': 217, 'custom_mode': 4, 'system_status': 4, 'mavlink_version': 3}\n",
      "{'mavpackettype': 'HEARTBEAT', 'type': 13, 'autopilot': 3, 'base_mode': 217, 'custom_mode': 4, 'system_status': 4, 'mavlink_version': 3}\n",
      "{'mavpackettype': 'TIMESYNC', 'tc1': 0, 'ts1': 2240645050001}\n",
      "{'mavpackettype': 'HEARTBEAT', 'type': 13, 'autopilot': 3, 'base_mode': 217, 'custom_mode': 4, 'system_status': 4, 'mavlink_version': 3}\n",
      "{'mavpackettype': 'HEARTBEAT', 'type': 13, 'autopilot': 3, 'base_mode': 217, 'custom_mode': 4, 'system_status': 4, 'mavlink_version': 3}\n",
      "{'mavpackettype': 'HEARTBEAT', 'type': 13, 'autopilot': 3, 'base_mode': 217, 'custom_mode': 4, 'system_status': 4, 'mavlink_version': 3}\n",
      "{'mavpackettype': 'HEARTBEAT', 'type': 13, 'autopilot': 3, 'base_mode': 217, 'custom_mode': 4, 'system_status': 4, 'mavlink_version': 3}\n",
      "{'mavpackettype': 'HEARTBEAT', 'type': 13, 'autopilot': 3, 'base_mode': 217, 'custom_mode': 4, 'system_status': 4, 'mavlink_version': 3}\n",
      "{'mavpackettype': 'HEARTBEAT', 'type': 13, 'autopilot': 3, 'base_mode': 217, 'custom_mode': 4, 'system_status': 4, 'mavlink_version': 3}\n",
      "{'mavpackettype': 'HEARTBEAT', 'type': 13, 'autopilot': 3, 'base_mode': 217, 'custom_mode': 4, 'system_status': 4, 'mavlink_version': 3}\n",
      "{'mavpackettype': 'HEARTBEAT', 'type': 13, 'autopilot': 3, 'base_mode': 217, 'custom_mode': 4, 'system_status': 4, 'mavlink_version': 3}\n",
      "{'mavpackettype': 'HEARTBEAT', 'type': 13, 'autopilot': 3, 'base_mode': 217, 'custom_mode': 4, 'system_status': 4, 'mavlink_version': 3}\n",
      "{'mavpackettype': 'HEARTBEAT', 'type': 13, 'autopilot': 3, 'base_mode': 217, 'custom_mode': 4, 'system_status': 4, 'mavlink_version': 3}\n",
      "{'mavpackettype': 'TIMESYNC', 'tc1': 0, 'ts1': 2250647714001}\n",
      "{'mavpackettype': 'HEARTBEAT', 'type': 13, 'autopilot': 3, 'base_mode': 217, 'custom_mode': 4, 'system_status': 4, 'mavlink_version': 3}\n",
      "{'mavpackettype': 'HEARTBEAT', 'type': 13, 'autopilot': 3, 'base_mode': 217, 'custom_mode': 4, 'system_status': 4, 'mavlink_version': 3}\n",
      "{'mavpackettype': 'HEARTBEAT', 'type': 13, 'autopilot': 3, 'base_mode': 217, 'custom_mode': 4, 'system_status': 4, 'mavlink_version': 3}\n",
      "{'mavpackettype': 'HEARTBEAT', 'type': 13, 'autopilot': 3, 'base_mode': 217, 'custom_mode': 4, 'system_status': 4, 'mavlink_version': 3}\n",
      "{'mavpackettype': 'HEARTBEAT', 'type': 13, 'autopilot': 3, 'base_mode': 217, 'custom_mode': 4, 'system_status': 4, 'mavlink_version': 3}\n",
      "{'mavpackettype': 'HEARTBEAT', 'type': 13, 'autopilot': 3, 'base_mode': 217, 'custom_mode': 4, 'system_status': 4, 'mavlink_version': 3}\n",
      "{'mavpackettype': 'HEARTBEAT', 'type': 13, 'autopilot': 3, 'base_mode': 217, 'custom_mode': 4, 'system_status': 4, 'mavlink_version': 3}\n",
      "{'mavpackettype': 'HEARTBEAT', 'type': 13, 'autopilot': 3, 'base_mode': 217, 'custom_mode': 4, 'system_status': 4, 'mavlink_version': 3}\n",
      "{'mavpackettype': 'HEARTBEAT', 'type': 13, 'autopilot': 3, 'base_mode': 217, 'custom_mode': 4, 'system_status': 4, 'mavlink_version': 3}\n",
      "{'mavpackettype': 'HEARTBEAT', 'type': 13, 'autopilot': 3, 'base_mode': 217, 'custom_mode': 4, 'system_status': 4, 'mavlink_version': 3}\n",
      "{'mavpackettype': 'TIMESYNC', 'tc1': 0, 'ts1': 2260650378001}\n",
      "{'mavpackettype': 'HEARTBEAT', 'type': 13, 'autopilot': 3, 'base_mode': 217, 'custom_mode': 4, 'system_status': 4, 'mavlink_version': 3}\n",
      "{'mavpackettype': 'HEARTBEAT', 'type': 13, 'autopilot': 3, 'base_mode': 217, 'custom_mode': 4, 'system_status': 4, 'mavlink_version': 3}\n",
      "{'mavpackettype': 'HEARTBEAT', 'type': 13, 'autopilot': 3, 'base_mode': 217, 'custom_mode': 4, 'system_status': 4, 'mavlink_version': 3}\n",
      "{'mavpackettype': 'HEARTBEAT', 'type': 13, 'autopilot': 3, 'base_mode': 217, 'custom_mode': 4, 'system_status': 4, 'mavlink_version': 3}\n",
      "{'mavpackettype': 'HEARTBEAT', 'type': 13, 'autopilot': 3, 'base_mode': 217, 'custom_mode': 4, 'system_status': 4, 'mavlink_version': 3}\n",
      "{'mavpackettype': 'HEARTBEAT', 'type': 13, 'autopilot': 3, 'base_mode': 217, 'custom_mode': 4, 'system_status': 4, 'mavlink_version': 3}\n",
      "{'mavpackettype': 'HEARTBEAT', 'type': 13, 'autopilot': 3, 'base_mode': 217, 'custom_mode': 4, 'system_status': 4, 'mavlink_version': 3}\n",
      "{'mavpackettype': 'HEARTBEAT', 'type': 13, 'autopilot': 3, 'base_mode': 217, 'custom_mode': 4, 'system_status': 4, 'mavlink_version': 3}\n",
      "{'mavpackettype': 'HEARTBEAT', 'type': 13, 'autopilot': 3, 'base_mode': 217, 'custom_mode': 4, 'system_status': 4, 'mavlink_version': 3}\n",
      "{'mavpackettype': 'HEARTBEAT', 'type': 13, 'autopilot': 3, 'base_mode': 217, 'custom_mode': 4, 'system_status': 4, 'mavlink_version': 3}\n",
      "{'mavpackettype': 'TIMESYNC', 'tc1': 0, 'ts1': 2270652209001}\n",
      "{'mavpackettype': 'HEARTBEAT', 'type': 13, 'autopilot': 3, 'base_mode': 217, 'custom_mode': 4, 'system_status': 4, 'mavlink_version': 3}\n",
      "{'mavpackettype': 'HEARTBEAT', 'type': 13, 'autopilot': 3, 'base_mode': 217, 'custom_mode': 4, 'system_status': 4, 'mavlink_version': 3}\n",
      "{'mavpackettype': 'HEARTBEAT', 'type': 13, 'autopilot': 3, 'base_mode': 217, 'custom_mode': 4, 'system_status': 4, 'mavlink_version': 3}\n",
      "{'mavpackettype': 'HEARTBEAT', 'type': 13, 'autopilot': 3, 'base_mode': 217, 'custom_mode': 4, 'system_status': 4, 'mavlink_version': 3}\n",
      "{'mavpackettype': 'HEARTBEAT', 'type': 13, 'autopilot': 3, 'base_mode': 217, 'custom_mode': 4, 'system_status': 4, 'mavlink_version': 3}\n",
      "{'mavpackettype': 'HEARTBEAT', 'type': 13, 'autopilot': 3, 'base_mode': 217, 'custom_mode': 4, 'system_status': 4, 'mavlink_version': 3}\n",
      "{'mavpackettype': 'HEARTBEAT', 'type': 13, 'autopilot': 3, 'base_mode': 217, 'custom_mode': 4, 'system_status': 4, 'mavlink_version': 3}\n",
      "{'mavpackettype': 'HEARTBEAT', 'type': 13, 'autopilot': 3, 'base_mode': 217, 'custom_mode': 4, 'system_status': 4, 'mavlink_version': 3}\n",
      "{'mavpackettype': 'HEARTBEAT', 'type': 13, 'autopilot': 3, 'base_mode': 217, 'custom_mode': 4, 'system_status': 4, 'mavlink_version': 3}\n",
      "{'mavpackettype': 'HEARTBEAT', 'type': 13, 'autopilot': 3, 'base_mode': 217, 'custom_mode': 4, 'system_status': 4, 'mavlink_version': 3}\n",
      "{'mavpackettype': 'TIMESYNC', 'tc1': 0, 'ts1': 2280654873001}\n",
      "{'mavpackettype': 'HEARTBEAT', 'type': 13, 'autopilot': 3, 'base_mode': 217, 'custom_mode': 4, 'system_status': 4, 'mavlink_version': 3}\n",
      "{'mavpackettype': 'HEARTBEAT', 'type': 13, 'autopilot': 3, 'base_mode': 217, 'custom_mode': 4, 'system_status': 4, 'mavlink_version': 3}\n",
      "{'mavpackettype': 'HEARTBEAT', 'type': 13, 'autopilot': 3, 'base_mode': 217, 'custom_mode': 4, 'system_status': 4, 'mavlink_version': 3}\n",
      "{'mavpackettype': 'HEARTBEAT', 'type': 13, 'autopilot': 3, 'base_mode': 217, 'custom_mode': 4, 'system_status': 4, 'mavlink_version': 3}\n",
      "{'mavpackettype': 'HEARTBEAT', 'type': 13, 'autopilot': 3, 'base_mode': 217, 'custom_mode': 4, 'system_status': 4, 'mavlink_version': 3}\n",
      "{'mavpackettype': 'HEARTBEAT', 'type': 13, 'autopilot': 3, 'base_mode': 217, 'custom_mode': 4, 'system_status': 4, 'mavlink_version': 3}\n",
      "{'mavpackettype': 'HEARTBEAT', 'type': 13, 'autopilot': 3, 'base_mode': 217, 'custom_mode': 4, 'system_status': 4, 'mavlink_version': 3}\n",
      "{'mavpackettype': 'HEARTBEAT', 'type': 13, 'autopilot': 3, 'base_mode': 217, 'custom_mode': 4, 'system_status': 4, 'mavlink_version': 3}\n",
      "{'mavpackettype': 'HEARTBEAT', 'type': 13, 'autopilot': 3, 'base_mode': 217, 'custom_mode': 4, 'system_status': 4, 'mavlink_version': 3}\n",
      "{'mavpackettype': 'HEARTBEAT', 'type': 13, 'autopilot': 3, 'base_mode': 217, 'custom_mode': 4, 'system_status': 4, 'mavlink_version': 3}\n",
      "{'mavpackettype': 'TIMESYNC', 'tc1': 0, 'ts1': 2290655038001}\n",
      "{'mavpackettype': 'HEARTBEAT', 'type': 13, 'autopilot': 3, 'base_mode': 217, 'custom_mode': 4, 'system_status': 4, 'mavlink_version': 3}\n",
      "{'mavpackettype': 'HEARTBEAT', 'type': 13, 'autopilot': 3, 'base_mode': 217, 'custom_mode': 4, 'system_status': 4, 'mavlink_version': 3}\n",
      "{'mavpackettype': 'HEARTBEAT', 'type': 13, 'autopilot': 3, 'base_mode': 217, 'custom_mode': 4, 'system_status': 4, 'mavlink_version': 3}\n",
      "{'mavpackettype': 'HEARTBEAT', 'type': 13, 'autopilot': 3, 'base_mode': 217, 'custom_mode': 4, 'system_status': 4, 'mavlink_version': 3}\n",
      "{'mavpackettype': 'HEARTBEAT', 'type': 13, 'autopilot': 3, 'base_mode': 217, 'custom_mode': 4, 'system_status': 4, 'mavlink_version': 3}\n",
      "{'mavpackettype': 'HEARTBEAT', 'type': 13, 'autopilot': 3, 'base_mode': 217, 'custom_mode': 4, 'system_status': 4, 'mavlink_version': 3}\n",
      "{'mavpackettype': 'HEARTBEAT', 'type': 13, 'autopilot': 3, 'base_mode': 217, 'custom_mode': 4, 'system_status': 4, 'mavlink_version': 3}\n",
      "{'mavpackettype': 'HEARTBEAT', 'type': 13, 'autopilot': 3, 'base_mode': 217, 'custom_mode': 4, 'system_status': 4, 'mavlink_version': 3}\n",
      "{'mavpackettype': 'HEARTBEAT', 'type': 13, 'autopilot': 3, 'base_mode': 217, 'custom_mode': 4, 'system_status': 4, 'mavlink_version': 3}\n",
      "{'mavpackettype': 'HEARTBEAT', 'type': 13, 'autopilot': 3, 'base_mode': 217, 'custom_mode': 4, 'system_status': 4, 'mavlink_version': 3}\n",
      "{'mavpackettype': 'TIMESYNC', 'tc1': 0, 'ts1': 2300657702001}\n",
      "{'mavpackettype': 'HEARTBEAT', 'type': 13, 'autopilot': 3, 'base_mode': 217, 'custom_mode': 4, 'system_status': 4, 'mavlink_version': 3}\n",
      "{'mavpackettype': 'HEARTBEAT', 'type': 13, 'autopilot': 3, 'base_mode': 217, 'custom_mode': 4, 'system_status': 4, 'mavlink_version': 3}\n",
      "{'mavpackettype': 'HEARTBEAT', 'type': 13, 'autopilot': 3, 'base_mode': 217, 'custom_mode': 4, 'system_status': 4, 'mavlink_version': 3}\n",
      "{'mavpackettype': 'HEARTBEAT', 'type': 13, 'autopilot': 3, 'base_mode': 217, 'custom_mode': 4, 'system_status': 4, 'mavlink_version': 3}\n",
      "{'mavpackettype': 'HEARTBEAT', 'type': 13, 'autopilot': 3, 'base_mode': 217, 'custom_mode': 4, 'system_status': 4, 'mavlink_version': 3}\n",
      "{'mavpackettype': 'HEARTBEAT', 'type': 13, 'autopilot': 3, 'base_mode': 217, 'custom_mode': 4, 'system_status': 4, 'mavlink_version': 3}\n",
      "{'mavpackettype': 'HEARTBEAT', 'type': 13, 'autopilot': 3, 'base_mode': 217, 'custom_mode': 4, 'system_status': 4, 'mavlink_version': 3}\n",
      "{'mavpackettype': 'HEARTBEAT', 'type': 13, 'autopilot': 3, 'base_mode': 217, 'custom_mode': 4, 'system_status': 4, 'mavlink_version': 3}\n",
      "{'mavpackettype': 'HEARTBEAT', 'type': 13, 'autopilot': 3, 'base_mode': 217, 'custom_mode': 4, 'system_status': 4, 'mavlink_version': 3}\n",
      "{'mavpackettype': 'HEARTBEAT', 'type': 13, 'autopilot': 3, 'base_mode': 217, 'custom_mode': 4, 'system_status': 4, 'mavlink_version': 3}\n",
      "{'mavpackettype': 'TIMESYNC', 'tc1': 0, 'ts1': 2310660366001}\n",
      "{'mavpackettype': 'HEARTBEAT', 'type': 13, 'autopilot': 3, 'base_mode': 217, 'custom_mode': 4, 'system_status': 4, 'mavlink_version': 3}\n",
      "{'mavpackettype': 'HEARTBEAT', 'type': 13, 'autopilot': 3, 'base_mode': 217, 'custom_mode': 4, 'system_status': 4, 'mavlink_version': 3}\n",
      "{'mavpackettype': 'HEARTBEAT', 'type': 13, 'autopilot': 3, 'base_mode': 217, 'custom_mode': 4, 'system_status': 4, 'mavlink_version': 3}\n",
      "{'mavpackettype': 'HEARTBEAT', 'type': 13, 'autopilot': 3, 'base_mode': 217, 'custom_mode': 4, 'system_status': 4, 'mavlink_version': 3}\n",
      "{'mavpackettype': 'HEARTBEAT', 'type': 13, 'autopilot': 3, 'base_mode': 217, 'custom_mode': 4, 'system_status': 4, 'mavlink_version': 3}\n",
      "{'mavpackettype': 'HEARTBEAT', 'type': 13, 'autopilot': 3, 'base_mode': 217, 'custom_mode': 4, 'system_status': 4, 'mavlink_version': 3}\n",
      "{'mavpackettype': 'HEARTBEAT', 'type': 13, 'autopilot': 3, 'base_mode': 217, 'custom_mode': 4, 'system_status': 4, 'mavlink_version': 3}\n"
     ]
    }
   ],
   "source": [
    "for i in range(1000):\n",
    "    try:\n",
    "        print(master.recv_match().to_dict())\n",
    "    except:\n",
    "        pass\n",
    "    time.sleep(0.1)"
   ]
  },
  {
   "cell_type": "code",
   "execution_count": 5,
   "metadata": {},
   "outputs": [
    {
     "data": {
      "text/plain": [
       "True"
      ]
     },
     "execution_count": 5,
     "metadata": {},
     "output_type": "execute_result"
    }
   ],
   "source": [
    "importlib.reload(utils_MAV)\n",
    "utils_MAV.mav_arm(master)"
   ]
  },
  {
   "cell_type": "code",
   "execution_count": 6,
   "metadata": {},
   "outputs": [
    {
     "data": {
      "text/plain": [
       "True"
      ]
     },
     "execution_count": 6,
     "metadata": {},
     "output_type": "execute_result"
    }
   ],
   "source": [
    "importlib.reload(utils_MAV)\n",
    "utils_MAV.mav_disarm(master, True)"
   ]
  },
  {
   "cell_type": "code",
   "execution_count": null,
   "metadata": {},
   "outputs": [
    {
     "name": "stdout",
     "output_type": "stream",
     "text": [
      "[COMMAND SET MODE] Mode changed > RTL\n"
     ]
    },
    {
     "data": {
      "text/plain": [
       "True"
      ]
     },
     "execution_count": 78,
     "metadata": {},
     "output_type": "execute_result"
    }
   ],
   "source": [
    "importlib.reload(utils_MAV)\n",
    "utils_MAV.mav_set_mode(master, \"RTL\")"
   ]
  },
  {
   "cell_type": "code",
   "execution_count": 7,
   "metadata": {},
   "outputs": [
    {
     "data": {
      "text/plain": [
       "True"
      ]
     },
     "execution_count": 7,
     "metadata": {},
     "output_type": "execute_result"
    }
   ],
   "source": [
    "importlib.reload(utils_MAV)\n",
    "utils_MAV.mav_set_mode(master, \"GUIDED\")\n",
    "utils_MAV.mav_arm(master)\n",
    "utils_MAV.mav_takeoff(master)\n",
    "# time.sleep(7)\n",
    "# utils_MAV.mav_reposition(master, 45.4389466, -0.4283327, 8)"
   ]
  },
  {
   "cell_type": "code",
   "execution_count": 19,
   "metadata": {},
   "outputs": [
    {
     "ename": "KeyboardInterrupt",
     "evalue": "",
     "output_type": "error",
     "traceback": [
      "\u001b[0;31m---------------------------------------------------------------------------\u001b[0m",
      "\u001b[0;31mKeyboardInterrupt\u001b[0m                         Traceback (most recent call last)",
      "Cell \u001b[0;32mIn[19], line 2\u001b[0m\n\u001b[1;32m      1\u001b[0m importlib\u001b[38;5;241m.\u001b[39mreload(utils_MAV)\n\u001b[0;32m----> 2\u001b[0m \u001b[43mutils_MAV\u001b[49m\u001b[38;5;241;43m.\u001b[39;49m\u001b[43mmav_reposition\u001b[49m\u001b[43m(\u001b[49m\u001b[43mmaster\u001b[49m\u001b[43m)\u001b[49m\n",
      "File \u001b[0;32m~/ros2_DUAV/src/popeye/popeye/utils_MAV.py:88\u001b[0m, in \u001b[0;36mmav_reposition\u001b[0;34m(master, lat, lon, alt)\u001b[0m\n\u001b[1;32m     83\u001b[0m master\u001b[38;5;241m.\u001b[39mmav\u001b[38;5;241m.\u001b[39mcommand_int_send(\n\u001b[1;32m     84\u001b[0m     master\u001b[38;5;241m.\u001b[39mtarget_system, master\u001b[38;5;241m.\u001b[39mtarget_component, \n\u001b[1;32m     85\u001b[0m     mavkit\u001b[38;5;241m.\u001b[39mMAV_FRAME_GLOBAL_RELATIVE_ALT, mavkit\u001b[38;5;241m.\u001b[39mMAV_CMD_DO_REPOSITION, \u001b[38;5;241m0\u001b[39m, \u001b[38;5;241m0\u001b[39m,\n\u001b[1;32m     86\u001b[0m     \u001b[38;5;241m0\u001b[39m, \u001b[38;5;241m1\u001b[39m, \u001b[38;5;241m0\u001b[39m, \u001b[38;5;241m0\u001b[39m, \u001b[38;5;28mint\u001b[39m(lat\u001b[38;5;241m*\u001b[39m\u001b[38;5;241m10\u001b[39m\u001b[38;5;241m*\u001b[39m\u001b[38;5;241m*\u001b[39m\u001b[38;5;241m7\u001b[39m), \u001b[38;5;28mint\u001b[39m(lon\u001b[38;5;241m*\u001b[39m\u001b[38;5;241m10\u001b[39m\u001b[38;5;241m*\u001b[39m\u001b[38;5;241m*\u001b[39m\u001b[38;5;241m7\u001b[39m), alt)\n\u001b[1;32m     87\u001b[0m \u001b[38;5;66;03m### Receive acknologment\u001b[39;00m\n\u001b[0;32m---> 88\u001b[0m ack_msg \u001b[38;5;241m=\u001b[39m \u001b[43mmaster\u001b[49m\u001b[38;5;241;43m.\u001b[39;49m\u001b[43mrecv_match\u001b[49m\u001b[43m(\u001b[49m\u001b[38;5;28;43mtype\u001b[39;49m\u001b[38;5;241;43m=\u001b[39;49m\u001b[38;5;124;43m'\u001b[39;49m\u001b[38;5;124;43mCOMMAND_ACK\u001b[39;49m\u001b[38;5;124;43m'\u001b[39;49m\u001b[43m,\u001b[49m\u001b[43m \u001b[49m\u001b[43mblocking\u001b[49m\u001b[38;5;241;43m=\u001b[39;49m\u001b[38;5;28;43;01mTrue\u001b[39;49;00m\u001b[43m)\u001b[49m\u001b[38;5;241m.\u001b[39mto_dict()\n\u001b[1;32m     89\u001b[0m \u001b[38;5;28;01mif\u001b[39;00m \u001b[38;5;129;01mnot\u001b[39;00m ack_msg[\u001b[38;5;124m'\u001b[39m\u001b[38;5;124mresult\u001b[39m\u001b[38;5;124m'\u001b[39m]\u001b[38;5;241m==\u001b[39mmavkit\u001b[38;5;241m.\u001b[39mMAV_RESULT_ACCEPTED:\n\u001b[1;32m     90\u001b[0m     \u001b[38;5;28mprint\u001b[39m(\u001b[38;5;124mf\u001b[39m\u001b[38;5;124m\"\u001b[39m\u001b[38;5;132;01m{\u001b[39;00mRED\u001b[38;5;132;01m}\u001b[39;00m\u001b[38;5;124m[MAV_REPOSITION] \u001b[39m\u001b[38;5;124m\"\u001b[39m \u001b[38;5;241m+\u001b[39m mavkit\u001b[38;5;241m.\u001b[39menums[\u001b[38;5;124m'\u001b[39m\u001b[38;5;124mMAV_RESULT\u001b[39m\u001b[38;5;124m'\u001b[39m][ack_msg[\u001b[38;5;124m'\u001b[39m\u001b[38;5;124mresult\u001b[39m\u001b[38;5;124m'\u001b[39m]]\u001b[38;5;241m.\u001b[39mdescription)\n",
      "File \u001b[0;32m~/.local/lib/python3.10/site-packages/pymavlink/mavutil.py:526\u001b[0m, in \u001b[0;36mmavfile.recv_match\u001b[0;34m(self, condition, type, blocking, timeout)\u001b[0m\n\u001b[1;32m    524\u001b[0m     hook(\u001b[38;5;28mself\u001b[39m)\n\u001b[1;32m    525\u001b[0m \u001b[38;5;28;01mif\u001b[39;00m timeout \u001b[38;5;129;01mis\u001b[39;00m \u001b[38;5;28;01mNone\u001b[39;00m:\n\u001b[0;32m--> 526\u001b[0m     \u001b[38;5;28;43mself\u001b[39;49m\u001b[38;5;241;43m.\u001b[39;49m\u001b[43mselect\u001b[49m\u001b[43m(\u001b[49m\u001b[38;5;241;43m0.05\u001b[39;49m\u001b[43m)\u001b[49m\n\u001b[1;32m    527\u001b[0m \u001b[38;5;28;01melse\u001b[39;00m:\n\u001b[1;32m    528\u001b[0m     \u001b[38;5;28mself\u001b[39m\u001b[38;5;241m.\u001b[39mselect(timeout\u001b[38;5;241m/\u001b[39m\u001b[38;5;241m2\u001b[39m)\n",
      "File \u001b[0;32m~/.local/lib/python3.10/site-packages/pymavlink/mavutil.py:339\u001b[0m, in \u001b[0;36mmavfile.select\u001b[0;34m(self, timeout)\u001b[0m\n\u001b[1;32m    337\u001b[0m     \u001b[38;5;28;01mreturn\u001b[39;00m \u001b[38;5;28;01mTrue\u001b[39;00m\n\u001b[1;32m    338\u001b[0m \u001b[38;5;28;01mtry\u001b[39;00m:\n\u001b[0;32m--> 339\u001b[0m     (rin, win, xin) \u001b[38;5;241m=\u001b[39m \u001b[43mselect\u001b[49m\u001b[38;5;241;43m.\u001b[39;49m\u001b[43mselect\u001b[49m\u001b[43m(\u001b[49m\u001b[43m[\u001b[49m\u001b[38;5;28;43mself\u001b[39;49m\u001b[38;5;241;43m.\u001b[39;49m\u001b[43mfd\u001b[49m\u001b[43m]\u001b[49m\u001b[43m,\u001b[49m\u001b[43m \u001b[49m\u001b[43m[\u001b[49m\u001b[43m]\u001b[49m\u001b[43m,\u001b[49m\u001b[43m \u001b[49m\u001b[43m[\u001b[49m\u001b[43m]\u001b[49m\u001b[43m,\u001b[49m\u001b[43m \u001b[49m\u001b[43mtimeout\u001b[49m\u001b[43m)\u001b[49m\n\u001b[1;32m    340\u001b[0m \u001b[38;5;28;01mexcept\u001b[39;00m select\u001b[38;5;241m.\u001b[39merror:\n\u001b[1;32m    341\u001b[0m     \u001b[38;5;28;01mreturn\u001b[39;00m \u001b[38;5;28;01mFalse\u001b[39;00m\n",
      "\u001b[0;31mKeyboardInterrupt\u001b[0m: "
     ]
    }
   ],
   "source": [
    "importlib.reload(utils_MAV)\n",
    "utils_MAV.mav_reposition(master)"
   ]
  }
 ],
 "metadata": {
  "kernelspec": {
   "display_name": "Python 3",
   "language": "python",
   "name": "python3"
  },
  "language_info": {
   "codemirror_mode": {
    "name": "ipython",
    "version": 3
   },
   "file_extension": ".py",
   "mimetype": "text/x-python",
   "name": "python",
   "nbconvert_exporter": "python",
   "pygments_lexer": "ipython3",
   "version": "3.10.12"
  }
 },
 "nbformat": 4,
 "nbformat_minor": 2
}
